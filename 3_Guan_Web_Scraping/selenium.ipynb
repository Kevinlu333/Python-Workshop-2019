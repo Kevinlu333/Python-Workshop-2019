{
 "cells": [
  {
   "cell_type": "markdown",
   "metadata": {},
   "source": [
    "# Python Selenium"
   ]
  },
  {
   "cell_type": "markdown",
   "metadata": {},
   "source": [
    "Selenium Python bindings provides a simple API to write functional/acceptance tests using Selenium WebDriver. Through Selenium Python API you can access all functionalities of Selenium WebDriver in an intuitive way.\n",
    "\n",
    "Selenium Python bindings provide a convenient API to access Selenium WebDrivers like Firefox, Ie, Chrome, Remote etc. The current supported Python versions are 2.7, 3.5 and above."
   ]
  },
  {
   "cell_type": "markdown",
   "metadata": {},
   "source": [
    "### Downloading Python bindings for Selenium"
   ]
  },
  {
   "cell_type": "markdown",
   "metadata": {},
   "source": [
    "Anaconda Navigator --- environments --- search 'selenium' package and apply it"
   ]
  },
  {
   "cell_type": "markdown",
   "metadata": {},
   "source": [
    "### Drivers of different web browsers"
   ]
  },
  {
   "cell_type": "markdown",
   "metadata": {},
   "source": [
    "Selenium requires a driver to interface with the chosen browser. \n",
    "\n",
    "Chrome:\thttps://sites.google.com/a/chromium.org/chromedriver/downloads\n",
    "\n",
    "Edge:\thttps://developer.microsoft.com/en-us/microsoft-edge/tools/webdriver/\n",
    "\n",
    "Firefox:\thttps://github.com/mozilla/geckodriver/releases\n",
    "\n",
    "Safari:\thttps://webkit.org/blog/6900/webdriver-support-in-safari-10/"
   ]
  },
  {
   "cell_type": "code",
   "execution_count": 2,
   "metadata": {},
   "outputs": [],
   "source": [
    "from selenium import webdriver\n",
    "import time"
   ]
  },
  {
   "cell_type": "markdown",
   "metadata": {},
   "source": [
    "Webdriver documentation:https://selenium-python.readthedocs.io/api.html"
   ]
  },
  {
   "cell_type": "markdown",
   "metadata": {},
   "source": [
    "webdriver.Chrome('include the path to ChromeDriver when instantiating')"
   ]
  },
  {
   "cell_type": "code",
   "execution_count": 10,
   "metadata": {},
   "outputs": [
    {
     "name": "stdout",
     "output_type": "stream",
     "text": [
      "<!--?xml version=\"1.0\" encoding=\"UTF-8\"?--><!DOCTYPE html PUBLIC \"-//W3C//DTD XHTML 1.0 Strict//EN\" \"http://www.w3.org/TR/xhtml1/DTD/xhtml1-strict.dtd\"><html xmlns=\"http://www.w3.org/1999/xhtml\"><head><meta http-equiv=\"Content-Type\" content=\"text/html; charset=utf-8\" /><meta http-equiv=\"Cache-Control\" content=\"no-cache\" /><meta id=\"viewport\" name=\"viewport\" content=\"width=device-width,initial-scale=1.0,minimum-scale=1.0, maximum-scale=2.0\" /><link rel=\"icon\" sizes=\"any\" mask=\"\" href=\"https://h5.sinaimg.cn/upload/2015/05/15/28/WeiboLogoCh.svg\" color=\"black\" /><meta name=\"MobileOptimized\" content=\"240\" /><title>微博广场</title><style type=\"text/css\" id=\"internalStyle\">html,body,p,form,div,table,textarea,input,span,select{font-size:12px;word-wrap:break-word;}body{background:#F8F9F9;color:#000;padding:1px;margin:1px;}table,tr,td{border-width:0px;margin:0px;padding:0px;}form{margin:0px;padding:0px;border:0px;}textarea{border:1px solid #96c1e6}textarea{width:95%;}a,.tl{color:#2a5492;text-decoration:underline;}/*a:link {color:#023298}*/.k{color:#2a5492;text-decoration:underline;}.kt{color:#F00;}.ib{border:1px solid #C1C1C1;}.pm,.pmy{clear:both;background:#ffffff;color:#676566;border:1px solid #b1cee7;padding:3px;margin:2px 1px;overflow:hidden;}.pms{clear:both;background:#c8d9f3;color:#666666;padding:3px;margin:0 1px;overflow:hidden;}.pmst{margin-top: 5px;}.pmsl{clear:both;padding:3px;margin:0 1px;overflow:hidden;}.pmy{background:#DADADA;border:1px solid #F8F8F8;}.t{padding:0px;margin:0px;height:35px;}.b{background:#e3efff;text-align:center;color:#2a5492;clear:both;padding:4px;}.bl{color:#2a5492;}.n{clear:both;background:#436193;color:#FFF;padding:4px; margin: 1px;}.nt{color:#b9e7ff;}.nl{color:#FFF;text-decoration:none;}.nfw{clear:both;border:1px solid #BACDEB;padding:3px;margin:2px 1px;}.s{border-bottom:1px dotted #666666;margin:3px;clear:both;}.tip{clear:both; background:#c8d9f3;color:#676566;border:1px solid #BACDEB;padding:3px;margin:2px 1px;}.tip2{color:#000000;padding:2px 3px;clear:both;}.ps{clear:both;background:#FFF;color:#676566;border:1px solid #BACDEB;padding:3px;margin:2px 1px;}.tm{background:#feffe5;border:1px solid #e6de8d;padding:4px;}.tm a{color:#ba8300;}.tmn{color:#f00}.tk{color:#ffffff}.tc{color:#63676A;}.c{padding:2px 5px;}.c div a img{border:1px solid #C1C1C1;}.ct{color:#9d9d9d;font-style:italic;}.cmt{color:#9d9d9d;}.ctt{color:#000;}.cc{color:#2a5492;}.nk{color:#2a5492;}.por {border: 1px solid #CCCCCC;height:50px;width:50px;}.me{color:#000000;background:#FEDFDF;padding:2px 5px;}.pa{padding:2px 4px;}.nm{margin:10px 5px;padding:2px;}.hm{padding:5px;background:#FFF;color:#63676A;}.u{margin:2px 1px;background:#ffffff;border:1px solid #b1cee7;}.ut{padding:2px 3px;}.cd{text-align:center;}.r{color:#F00;}.g{color:#0F0;}.bn{background: transparent;border: 0 none;text-align: left;padding-left: 0;}</style><script>if(top != self){top.location = self.location;}</script></head><body><div class=\"t\"><img src=\"https://h5.sinaimg.cn/upload/2017/04/27/319/logo-wap.png\" alt=\"LOGO\" /></div><div class=\"u\"><div class=\"ut\"><a href=\"https://passport.weibo.cn/signin/login?entry=mweibo&amp;r=https%3A%2F%2Fweibo.cn%2F&amp;backTitle=%CE%A2%B2%A9&amp;vt=\">登录</a> <a href=\"https://weibo.cn/reg/index\">注册</a></div></div><div class=\"tip\"><a href=\"/page/260?pos=65\">入门</a>.<a href=\"/v2star/?pos=65\">名人</a>.<a href=\"/page/261?pos=65\">导航</a>.<a href=\"http://vip.weibo.cn\">会员</a>.<a href=\"http://down.sina.cn/weibo/\">客户端</a><br /></div><div class=\"tip\"><a href=\"/pub/top?cat=star&amp;pos=65\">名人排行</a>.<ahref=\" pub=\"\" top?cat=\"grass&amp;pos=65&quot;\">草根排行</ahref=\"></div><table><tbody><tr><td valign=\"top\"><a href=\"/u/1193476843\" class=\"pl\"><img src=\"http://tvax2.sinaimg.cn/crop.0.18.1125.1125.50/472302ebly8fmlbdwt90aj20v90w976c.jpg\" alt=\"头像\" class=\"por\" /></a></td><td valign=\"top\"><a href=\"https://weibo.cn/u/1193476843\" class=\"nk\">主播李湘</a><img src=\"https://h5.sinaimg.cn/upload/2016/05/26/319/5338.gif\" alt=\"V\" /><img src=\"https://h5.sinaimg.cn/upload/2016/05/26/319/donate_btn_s.png\" alt=\"M\" /><br />粉丝24751290人<br /><a href=\"/attention/add?uid=1193476843&amp;rl=0&amp;st=0c7b01\">关注她</a></td></tr></tbody></table><table><tbody><tr><td valign=\"top\"><a href=\"/luozhixiang\" class=\"pl\"><img src=\"http://tva2.sinaimg.cn/crop.4.0.503.503.50/6a5de23djw8f60g6npufxj20e80dz74u.jpg\" alt=\"头像\" class=\"por\" /></a></td><td valign=\"top\"><a href=\"https://weibo.cn/luozhixiang\" class=\"nk\">羅志祥</a><img src=\"https://h5.sinaimg.cn/upload/2016/05/26/319/5338.gif\" alt=\"V\" /><img src=\"https://h5.sinaimg.cn/upload/2016/05/26/319/donate_btn_s.png\" alt=\"M\" /><br />粉丝61850819人<br /><a href=\"/attention/add?uid=1784537661&amp;rl=0&amp;st=0c7b01\">关注他</a></td></tr></tbody></table><div class=\"c\"><a href=\"/pub/top?cat=star&amp;pos=65\">查看更多&gt;&gt;</a></div><div class=\"tip\">精品推荐</div><div class=\"c\"><a href=\"http://vip.weibo.cn\">会员</a>.<a href=\"http://weibo.cn/dpool/ttt/data.php?s2w=admin\">微数据</a>.<a href=\"/dpool/ttt/sharerank.php\">微分享</a></div><div class=\"c\"><ahref=\" u=\"\" 1658688240?pos=\"65&quot;\">@手机微博 为您解答使用问题</ahref=\"></div><div class=\"c\"><a href=\"http://3g.sina.com.cn/3g/pro/index.php?tid=254&amp;did=1354&amp;vid=150\">微博盗链举报!</a></div><div class=\"cd\"><a href=\"#top\"><img src=\"https://h5.sinaimg.cn/upload/2017/04/27/319/5e990ec2.gif\" alt=\"TOP\" /></a></div></body></html>\n"
     ]
    }
   ],
   "source": [
    "# create a Chrome Webdriver\n",
    "browser = webdriver.Chrome('C:\\\\Users\\\\String\\\\Downloads\\\\chromedriver_win32\\\\chromedriver.exe')\n",
    "# The driver.get method will navigate to a page given by the URL.\n",
    "browser.get(\"https://www.openrice.com/zh/hongkong\")\n",
    "# maximize the window\n",
    "browser.maximize_window()\n",
    "# print the html source of the page\n",
    "print(browser.page_source)\n",
    "# wait 5 seconds then go to next line\n",
    "time.sleep(3) \n",
    "# close the window\n",
    "browser.close()"
   ]
  },
  {
   "cell_type": "markdown",
   "metadata": {},
   "source": [
    "#### There are various strategies to locate elements in a page. You can use the most appropriate one for your case. Selenium provides the following methods to locate elements in a page:\n",
    "\n",
    "find_element_by_id\n",
    "\n",
    "find_element_by_name\n",
    "\n",
    "find_element_by_xpath\n",
    "\n",
    "find_element_by_link_text\n",
    "\n",
    "find_element_by_partial_link_text\n",
    "\n",
    "find_element_by_tag_name\n",
    "\n",
    "find_element_by_class_name\n",
    "\n",
    "find_element_by_css_selector\n",
    "\n",
    "#### To find multiple elements (these methods will return a list):\n",
    "\n",
    "find_elements_by_name\n",
    "\n",
    "find_elements_by_xpath\n",
    "\n",
    "find_elements_by_link_text\n",
    "\n",
    "find_elements_by_partial_link_text\n",
    "\n",
    "find_elements_by_tag_name\n",
    "\n",
    "find_elements_by_class_name\n",
    "\n",
    "find_elements_by_css_selector\n",
    "\n",
    "#### Apart from the public methods given above, there are two private methods which might be useful with locators in page objects. These are the two private methods: find_element and find_elements.\n",
    "\n",
    "W3Schools XPATH Tutorial: https://www.w3schools.com/xml/xpath_intro.asp"
   ]
  },
  {
   "cell_type": "raw",
   "metadata": {},
   "source": [
    "<input name=\"what\" type=\"text\" class=\"header-searchbar-what-input what js-input-quick-search\" placeholder=\"搜尋餐廳名稱、菜式、食品\" autocomplete=\"off\" data-type=\"what\">"
   ]
  },
  {
   "cell_type": "code",
   "execution_count": 42,
   "metadata": {},
   "outputs": [
    {
     "name": "stdout",
     "output_type": "stream",
     "text": [
      "<selenium.webdriver.remote.webelement.WebElement (session=\"254fda852ad9746644475e90975ce849\", element=\"0.597623855361185-1\")>\n",
      "header-searchbar-what-input what js-input-quick-search\n"
     ]
    }
   ],
   "source": [
    "# find_element_by\n",
    "browser = webdriver.Chrome('C:\\\\Users\\\\String\\\\Downloads\\\\chromedriver_win32\\\\chromedriver.exe')\n",
    "\n",
    "browser.get(\"https://www.openrice.com/zh/hongkong\")\n",
    "input0 = browser.find_element_by_name(\"what\")\n",
    "print(input0)\n",
    "print(input0.get_attribute('class'))\n",
    "browser.close()"
   ]
  },
  {
   "cell_type": "raw",
   "metadata": {},
   "source": [
    "<div class=\"horizontal-card-slider-item\">\n",
    "                        <a href=\"/zh/hongkong/promo/%E6%97%BA%E8%A7%92%E7%BD%95%E6%9C%89-180%E5%BA%A6%E6%97%A5%E8%90%BD%E7%BE%8E%E6%99%AF%E8%A5%BF%E9%A4%90%E5%BB%B3-a5331\" data-impression-click=\"{&quot;FeatureItemId&quot;:19638,&quot;ItemId&quot;:5331,&quot;ChannelId&quot;:5000,&quot;SubChannelId&quot;:2,&quot;RegionId&quot;:0}\">\n",
    "                            <div class=\"horizontal-card-slider-item-img\" style=\"background-image: url(https://static8.orstatic.com/userphoto/FeatureItem/0/24/000F47D27CFA406A67E241tx.jpg)\" title=\"旺角罕有 180度日落美景西餐廳\"></div>\n",
    "                            <div class=\"horizontal-card-slider-item-title title js-dotdotdot\" style=\"overflow-wrap: break-word;\">旺角罕有 180度日落美景西餐廳</div>\n",
    "                        </a>\n",
    "                    </div>"
   ]
  },
  {
   "cell_type": "code",
   "execution_count": 43,
   "metadata": {},
   "outputs": [
    {
     "name": "stdout",
     "output_type": "stream",
     "text": [
      "<selenium.webdriver.remote.webelement.WebElement (session=\"430a9fdf14994483f5a5f2a27e56c308\", element=\"0.773294552064397-1\")>\n",
      "旺角罕有 180度日落美景西餐廳\n"
     ]
    }
   ],
   "source": [
    "browser = webdriver.Chrome('C:\\\\Users\\\\String\\\\Downloads\\\\chromedriver_win32\\\\chromedriver.exe')\n",
    "\n",
    "browser.get(\"https://www.openrice.com/zh/hongkong\")\n",
    "input0 = browser.find_element_by_class_name(\"horizontal-card-slider-item\")\n",
    "print(input0)\n",
    "print(input0.text)\n",
    "browser.close()"
   ]
  },
  {
   "cell_type": "markdown",
   "metadata": {},
   "source": [
    "These are the attributes available for By class:\n",
    "\n",
    "ID = \"id\"\n",
    "\n",
    "XPATH = \"xpath\"\n",
    "\n",
    "LINK_TEXT = \"link text\"\n",
    "\n",
    "PARTIAL_LINK_TEXT = \"partial link text\"\n",
    "\n",
    "NAME = \"name\"\n",
    "\n",
    "TAG_NAME = \"tag name\"\n",
    "\n",
    "CLASS_NAME = \"class name\"\n",
    "\n",
    "CSS_SELECTOR = \"css selector\""
   ]
  },
  {
   "cell_type": "code",
   "execution_count": 37,
   "metadata": {},
   "outputs": [
    {
     "name": "stdout",
     "output_type": "stream",
     "text": [
      "[<selenium.webdriver.remote.webelement.WebElement (session=\"2d55a717b34374401db1d43c6c8dfb0f\", element=\"0.08020603529450598-1\")>, <selenium.webdriver.remote.webelement.WebElement (session=\"2d55a717b34374401db1d43c6c8dfb0f\", element=\"0.08020603529450598-2\")>, <selenium.webdriver.remote.webelement.WebElement (session=\"2d55a717b34374401db1d43c6c8dfb0f\", element=\"0.08020603529450598-3\")>, <selenium.webdriver.remote.webelement.WebElement (session=\"2d55a717b34374401db1d43c6c8dfb0f\", element=\"0.08020603529450598-4\")>, <selenium.webdriver.remote.webelement.WebElement (session=\"2d55a717b34374401db1d43c6c8dfb0f\", element=\"0.08020603529450598-5\")>, <selenium.webdriver.remote.webelement.WebElement (session=\"2d55a717b34374401db1d43c6c8dfb0f\", element=\"0.08020603529450598-6\")>, <selenium.webdriver.remote.webelement.WebElement (session=\"2d55a717b34374401db1d43c6c8dfb0f\", element=\"0.08020603529450598-7\")>, <selenium.webdriver.remote.webelement.WebElement (session=\"2d55a717b34374401db1d43c6c8dfb0f\", element=\"0.08020603529450598-8\")>, <selenium.webdriver.remote.webelement.WebElement (session=\"2d55a717b34374401db1d43c6c8dfb0f\", element=\"0.08020603529450598-9\")>, <selenium.webdriver.remote.webelement.WebElement (session=\"2d55a717b34374401db1d43c6c8dfb0f\", element=\"0.08020603529450598-10\")>, <selenium.webdriver.remote.webelement.WebElement (session=\"2d55a717b34374401db1d43c6c8dfb0f\", element=\"0.08020603529450598-11\")>, <selenium.webdriver.remote.webelement.WebElement (session=\"2d55a717b34374401db1d43c6c8dfb0f\", element=\"0.08020603529450598-12\")>, <selenium.webdriver.remote.webelement.WebElement (session=\"2d55a717b34374401db1d43c6c8dfb0f\", element=\"0.08020603529450598-13\")>, <selenium.webdriver.remote.webelement.WebElement (session=\"2d55a717b34374401db1d43c6c8dfb0f\", element=\"0.08020603529450598-14\")>, <selenium.webdriver.remote.webelement.WebElement (session=\"2d55a717b34374401db1d43c6c8dfb0f\", element=\"0.08020603529450598-15\")>, <selenium.webdriver.remote.webelement.WebElement (session=\"2d55a717b34374401db1d43c6c8dfb0f\", element=\"0.08020603529450598-16\")>, <selenium.webdriver.remote.webelement.WebElement (session=\"2d55a717b34374401db1d43c6c8dfb0f\", element=\"0.08020603529450598-17\")>, <selenium.webdriver.remote.webelement.WebElement (session=\"2d55a717b34374401db1d43c6c8dfb0f\", element=\"0.08020603529450598-18\")>, <selenium.webdriver.remote.webelement.WebElement (session=\"2d55a717b34374401db1d43c6c8dfb0f\", element=\"0.08020603529450598-19\")>, <selenium.webdriver.remote.webelement.WebElement (session=\"2d55a717b34374401db1d43c6c8dfb0f\", element=\"0.08020603529450598-20\")>, <selenium.webdriver.remote.webelement.WebElement (session=\"2d55a717b34374401db1d43c6c8dfb0f\", element=\"0.08020603529450598-21\")>, <selenium.webdriver.remote.webelement.WebElement (session=\"2d55a717b34374401db1d43c6c8dfb0f\", element=\"0.08020603529450598-22\")>, <selenium.webdriver.remote.webelement.WebElement (session=\"2d55a717b34374401db1d43c6c8dfb0f\", element=\"0.08020603529450598-23\")>, <selenium.webdriver.remote.webelement.WebElement (session=\"2d55a717b34374401db1d43c6c8dfb0f\", element=\"0.08020603529450598-24\")>, <selenium.webdriver.remote.webelement.WebElement (session=\"2d55a717b34374401db1d43c6c8dfb0f\", element=\"0.08020603529450598-25\")>, <selenium.webdriver.remote.webelement.WebElement (session=\"2d55a717b34374401db1d43c6c8dfb0f\", element=\"0.08020603529450598-26\")>, <selenium.webdriver.remote.webelement.WebElement (session=\"2d55a717b34374401db1d43c6c8dfb0f\", element=\"0.08020603529450598-27\")>, <selenium.webdriver.remote.webelement.WebElement (session=\"2d55a717b34374401db1d43c6c8dfb0f\", element=\"0.08020603529450598-28\")>, <selenium.webdriver.remote.webelement.WebElement (session=\"2d55a717b34374401db1d43c6c8dfb0f\", element=\"0.08020603529450598-29\")>, <selenium.webdriver.remote.webelement.WebElement (session=\"2d55a717b34374401db1d43c6c8dfb0f\", element=\"0.08020603529450598-30\")>, <selenium.webdriver.remote.webelement.WebElement (session=\"2d55a717b34374401db1d43c6c8dfb0f\", element=\"0.08020603529450598-31\")>, <selenium.webdriver.remote.webelement.WebElement (session=\"2d55a717b34374401db1d43c6c8dfb0f\", element=\"0.08020603529450598-32\")>, <selenium.webdriver.remote.webelement.WebElement (session=\"2d55a717b34374401db1d43c6c8dfb0f\", element=\"0.08020603529450598-33\")>, <selenium.webdriver.remote.webelement.WebElement (session=\"2d55a717b34374401db1d43c6c8dfb0f\", element=\"0.08020603529450598-34\")>, <selenium.webdriver.remote.webelement.WebElement (session=\"2d55a717b34374401db1d43c6c8dfb0f\", element=\"0.08020603529450598-35\")>, <selenium.webdriver.remote.webelement.WebElement (session=\"2d55a717b34374401db1d43c6c8dfb0f\", element=\"0.08020603529450598-36\")>, <selenium.webdriver.remote.webelement.WebElement (session=\"2d55a717b34374401db1d43c6c8dfb0f\", element=\"0.08020603529450598-37\")>, <selenium.webdriver.remote.webelement.WebElement (session=\"2d55a717b34374401db1d43c6c8dfb0f\", element=\"0.08020603529450598-38\")>, <selenium.webdriver.remote.webelement.WebElement (session=\"2d55a717b34374401db1d43c6c8dfb0f\", element=\"0.08020603529450598-39\")>, <selenium.webdriver.remote.webelement.WebElement (session=\"2d55a717b34374401db1d43c6c8dfb0f\", element=\"0.08020603529450598-40\")>, <selenium.webdriver.remote.webelement.WebElement (session=\"2d55a717b34374401db1d43c6c8dfb0f\", element=\"0.08020603529450598-41\")>, <selenium.webdriver.remote.webelement.WebElement (session=\"2d55a717b34374401db1d43c6c8dfb0f\", element=\"0.08020603529450598-42\")>, <selenium.webdriver.remote.webelement.WebElement (session=\"2d55a717b34374401db1d43c6c8dfb0f\", element=\"0.08020603529450598-43\")>, <selenium.webdriver.remote.webelement.WebElement (session=\"2d55a717b34374401db1d43c6c8dfb0f\", element=\"0.08020603529450598-44\")>, <selenium.webdriver.remote.webelement.WebElement (session=\"2d55a717b34374401db1d43c6c8dfb0f\", element=\"0.08020603529450598-45\")>, <selenium.webdriver.remote.webelement.WebElement (session=\"2d55a717b34374401db1d43c6c8dfb0f\", element=\"0.08020603529450598-46\")>, <selenium.webdriver.remote.webelement.WebElement (session=\"2d55a717b34374401db1d43c6c8dfb0f\", element=\"0.08020603529450598-47\")>, <selenium.webdriver.remote.webelement.WebElement (session=\"2d55a717b34374401db1d43c6c8dfb0f\", element=\"0.08020603529450598-48\")>, <selenium.webdriver.remote.webelement.WebElement (session=\"2d55a717b34374401db1d43c6c8dfb0f\", element=\"0.08020603529450598-49\")>, <selenium.webdriver.remote.webelement.WebElement (session=\"2d55a717b34374401db1d43c6c8dfb0f\", element=\"0.08020603529450598-50\")>, <selenium.webdriver.remote.webelement.WebElement (session=\"2d55a717b34374401db1d43c6c8dfb0f\", element=\"0.08020603529450598-51\")>, <selenium.webdriver.remote.webelement.WebElement (session=\"2d55a717b34374401db1d43c6c8dfb0f\", element=\"0.08020603529450598-52\")>, <selenium.webdriver.remote.webelement.WebElement (session=\"2d55a717b34374401db1d43c6c8dfb0f\", element=\"0.08020603529450598-53\")>, <selenium.webdriver.remote.webelement.WebElement (session=\"2d55a717b34374401db1d43c6c8dfb0f\", element=\"0.08020603529450598-54\")>, <selenium.webdriver.remote.webelement.WebElement (session=\"2d55a717b34374401db1d43c6c8dfb0f\", element=\"0.08020603529450598-55\")>, <selenium.webdriver.remote.webelement.WebElement (session=\"2d55a717b34374401db1d43c6c8dfb0f\", element=\"0.08020603529450598-56\")>, <selenium.webdriver.remote.webelement.WebElement (session=\"2d55a717b34374401db1d43c6c8dfb0f\", element=\"0.08020603529450598-57\")>, <selenium.webdriver.remote.webelement.WebElement (session=\"2d55a717b34374401db1d43c6c8dfb0f\", element=\"0.08020603529450598-58\")>, <selenium.webdriver.remote.webelement.WebElement (session=\"2d55a717b34374401db1d43c6c8dfb0f\", element=\"0.08020603529450598-59\")>, <selenium.webdriver.remote.webelement.WebElement (session=\"2d55a717b34374401db1d43c6c8dfb0f\", element=\"0.08020603529450598-60\")>, <selenium.webdriver.remote.webelement.WebElement (session=\"2d55a717b34374401db1d43c6c8dfb0f\", element=\"0.08020603529450598-61\")>, <selenium.webdriver.remote.webelement.WebElement (session=\"2d55a717b34374401db1d43c6c8dfb0f\", element=\"0.08020603529450598-62\")>, <selenium.webdriver.remote.webelement.WebElement (session=\"2d55a717b34374401db1d43c6c8dfb0f\", element=\"0.08020603529450598-63\")>, <selenium.webdriver.remote.webelement.WebElement (session=\"2d55a717b34374401db1d43c6c8dfb0f\", element=\"0.08020603529450598-64\")>, <selenium.webdriver.remote.webelement.WebElement (session=\"2d55a717b34374401db1d43c6c8dfb0f\", element=\"0.08020603529450598-65\")>, <selenium.webdriver.remote.webelement.WebElement (session=\"2d55a717b34374401db1d43c6c8dfb0f\", element=\"0.08020603529450598-66\")>, <selenium.webdriver.remote.webelement.WebElement (session=\"2d55a717b34374401db1d43c6c8dfb0f\", element=\"0.08020603529450598-67\")>, <selenium.webdriver.remote.webelement.WebElement (session=\"2d55a717b34374401db1d43c6c8dfb0f\", element=\"0.08020603529450598-68\")>, <selenium.webdriver.remote.webelement.WebElement (session=\"2d55a717b34374401db1d43c6c8dfb0f\", element=\"0.08020603529450598-69\")>, <selenium.webdriver.remote.webelement.WebElement (session=\"2d55a717b34374401db1d43c6c8dfb0f\", element=\"0.08020603529450598-70\")>, <selenium.webdriver.remote.webelement.WebElement (session=\"2d55a717b34374401db1d43c6c8dfb0f\", element=\"0.08020603529450598-71\")>, <selenium.webdriver.remote.webelement.WebElement (session=\"2d55a717b34374401db1d43c6c8dfb0f\", element=\"0.08020603529450598-72\")>, <selenium.webdriver.remote.webelement.WebElement (session=\"2d55a717b34374401db1d43c6c8dfb0f\", element=\"0.08020603529450598-73\")>, <selenium.webdriver.remote.webelement.WebElement (session=\"2d55a717b34374401db1d43c6c8dfb0f\", element=\"0.08020603529450598-74\")>, <selenium.webdriver.remote.webelement.WebElement (session=\"2d55a717b34374401db1d43c6c8dfb0f\", element=\"0.08020603529450598-75\")>, <selenium.webdriver.remote.webelement.WebElement (session=\"2d55a717b34374401db1d43c6c8dfb0f\", element=\"0.08020603529450598-76\")>, <selenium.webdriver.remote.webelement.WebElement (session=\"2d55a717b34374401db1d43c6c8dfb0f\", element=\"0.08020603529450598-77\")>, <selenium.webdriver.remote.webelement.WebElement (session=\"2d55a717b34374401db1d43c6c8dfb0f\", element=\"0.08020603529450598-78\")>, <selenium.webdriver.remote.webelement.WebElement (session=\"2d55a717b34374401db1d43c6c8dfb0f\", element=\"0.08020603529450598-79\")>, <selenium.webdriver.remote.webelement.WebElement (session=\"2d55a717b34374401db1d43c6c8dfb0f\", element=\"0.08020603529450598-80\")>]\n"
     ]
    }
   ],
   "source": [
    "from selenium.webdriver.common.by import By\n",
    "\n",
    "browser = webdriver.Chrome('C:\\\\Users\\\\String\\\\Downloads\\\\chromedriver_win32\\\\chromedriver.exe')\n",
    "\n",
    "browser.get(\"https://www.openrice.com/zh/hongkong/restaurants?what=Japanese%20Resturant\")\n",
    "input_first = browser.find_elements(By.TAG_NAME,\"li\")\n",
    "print(input_first)\n",
    "browser.close()"
   ]
  },
  {
   "cell_type": "markdown",
   "metadata": {},
   "source": [
    "### Action Chains\n",
    "\n",
    "ActionChains are a way to automate low level interactions such as mouse movements, mouse button actions, key press, and context menu interactions. "
   ]
  },
  {
   "cell_type": "raw",
   "metadata": {},
   "source": [
    "<button type=\"submit\" class=\"btn header-searchbar-search-btn\">\n",
    "                    <div class=\"header-searchbar-search-btn-icon or-sprite a_home_header_searchbar_icon_magnifier_desktop\">\n",
    "                    </div>\n",
    "                </button>"
   ]
  },
  {
   "cell_type": "code",
   "execution_count": 33,
   "metadata": {},
   "outputs": [],
   "source": [
    "browser = webdriver.Chrome('C:\\\\Users\\\\String\\\\Downloads\\\\chromedriver_win32\\\\chromedriver.exe')\n",
    "browser.get(\"https://www.openrice.com/zh/hongkong\")\n",
    "input_str = browser.find_element(By.NAME,\"what\")\n",
    "input_str.send_keys(\"sushi\")\n",
    "time.sleep(1)\n",
    "input_str.clear()\n",
    "input_str.send_keys(\"Japanese Resturant\")\n",
    "button = browser.find_element(By.XPATH,\"//*[@id=\\\"header\\\"]/div[2]/div[4]/div/button\")\n",
    "button.click()"
   ]
  },
  {
   "cell_type": "code",
   "execution_count": 38,
   "metadata": {},
   "outputs": [],
   "source": [
    "# execute JavaScript\n",
    "browser = webdriver.Chrome('C:\\\\Users\\\\String\\\\Downloads\\\\chromedriver_win32\\\\chromedriver.exe')\n",
    "browser.get(\"https://www.openrice.com/zh/hongkong\")\n",
    "browser.execute_script('window.scrollTo(0, document.body.scrollHeight)')\n",
    "browser.execute_script('alert(\"To Bottom\")')\n",
    "time.sleep(5)\n",
    "browser.close()"
   ]
  },
  {
   "cell_type": "markdown",
   "metadata": {},
   "source": [
    "### Login Weibo then collect data"
   ]
  },
  {
   "cell_type": "markdown",
   "metadata": {},
   "source": [
    "The Keys class provide keys in the keyboard like RETURN, F1, ALT etc. Sending keys is similar to entering keys using your keyboard. "
   ]
  },
  {
   "cell_type": "code",
   "execution_count": 56,
   "metadata": {},
   "outputs": [
    {
     "name": "stdout",
     "output_type": "stream",
     "text": [
      "[{'domain': '.weibo.cn', 'expiry': 1551772881.317913, 'httpOnly': True, 'name': 'M_WEIBOCN_PARAMS', 'path': '/', 'secure': False, 'value': 'uicode%3D20000174'}, {'domain': '.weibo.cn', 'expiry': 1583308279.535524, 'httpOnly': True, 'name': 'SUB', 'path': '/', 'secure': False, 'value': '_2A25xelonDeRhGeRI6FIW9SzOzD-IHXVShWZvrDV6PUJbkdANLWXVkW1NUqP-MWggNP80e7TTG_0FeHqxnZNAthBQ'}, {'domain': '.weibo.cn', 'expiry': 1551775881.317865, 'httpOnly': False, 'name': 'MLOGIN', 'path': '/', 'secure': False, 'value': '1'}, {'domain': '.weibo.cn', 'expiry': 1867132279.535567, 'httpOnly': True, 'name': 'SCF', 'path': '/', 'secure': False, 'value': 'AlZm-0XXusKDAtRHbluaSD1pNq1tvMGgO8lmUa0hfXmoLwDYDrPSMPQbQ86ZH5h-ZRIfpcF_yKIShS0tmJBvydY.'}, {'domain': '.weibo.cn', 'expiry': 1583308279.535551, 'httpOnly': False, 'name': 'SUHB', 'path': '/', 'secure': False, 'value': '0G0_UM50_08-LT'}, {'domain': '.weibo.cn', 'httpOnly': False, 'name': 'SSOLoginState', 'path': '/', 'secure': False, 'value': '1551772279'}, {'domain': '.weibo.cn', 'httpOnly': True, 'name': 'WEIBOCN_FROM', 'path': '/', 'secure': False, 'value': '1110006030'}, {'domain': '.weibo.cn', 'expiry': 1554364280.607254, 'httpOnly': False, 'name': '_T_WM', 'path': '/', 'secure': False, 'value': 'a042734e358b9fbae5627556443ee280'}, {'domain': '.weibo.cn', 'httpOnly': False, 'name': 'XSRF-TOKEN', 'path': '/', 'secure': False, 'value': 'e68aca'}]\n",
      "<!--?xml version=\"1.0\" encoding=\"UTF-8\"?--><!DOCTYPE html PUBLIC \"-//W3C//DTD XHTML 1.0 Strict//EN\" \"http://www.w3.org/TR/xhtml1/DTD/xhtml1-strict.dtd\"><html xmlns=\"http://www.w3.org/1999/xhtml\"><head><meta http-equiv=\"Content-Type\" content=\"text/html; charset=utf-8\" /><meta http-equiv=\"Cache-Control\" content=\"no-cache\" /><meta id=\"viewport\" name=\"viewport\" content=\"width=device-width,initial-scale=1.0,minimum-scale=1.0, maximum-scale=2.0\" /><link rel=\"icon\" sizes=\"any\" mask=\"\" href=\"https://h5.sinaimg.cn/upload/2015/05/15/28/WeiboLogoCh.svg\" color=\"black\" /><meta name=\"MobileOptimized\" content=\"240\" /><title>搜索结果</title><style type=\"text/css\" id=\"internalStyle\">html,body,p,form,div,table,textarea,input,span,select{font-size:12px;word-wrap:break-word;}body{background:#F8F9F9;color:#000;padding:1px;margin:1px;}table,tr,td{border-width:0px;margin:0px;padding:0px;}form{margin:0px;padding:0px;border:0px;}textarea{border:1px solid #96c1e6}textarea{width:95%;}a,.tl{color:#2a5492;text-decoration:underline;}/*a:link {color:#023298}*/.k{color:#2a5492;text-decoration:underline;}.kt{color:#F00;}.ib{border:1px solid #C1C1C1;}.pm,.pmy{clear:both;background:#ffffff;color:#676566;border:1px solid #b1cee7;padding:3px;margin:2px 1px;overflow:hidden;}.pms{clear:both;background:#c8d9f3;color:#666666;padding:3px;margin:0 1px;overflow:hidden;}.pmst{margin-top: 5px;}.pmsl{clear:both;padding:3px;margin:0 1px;overflow:hidden;}.pmy{background:#DADADA;border:1px solid #F8F8F8;}.t{padding:0px;margin:0px;height:35px;}.b{background:#e3efff;text-align:center;color:#2a5492;clear:both;padding:4px;}.bl{color:#2a5492;}.n{clear:both;background:#436193;color:#FFF;padding:4px; margin: 1px;}.nt{color:#b9e7ff;}.nl{color:#FFF;text-decoration:none;}.nfw{clear:both;border:1px solid #BACDEB;padding:3px;margin:2px 1px;}.s{border-bottom:1px dotted #666666;margin:3px;clear:both;}.tip{clear:both; background:#c8d9f3;color:#676566;border:1px solid #BACDEB;padding:3px;margin:2px 1px;}.tip2{color:#000000;padding:2px 3px;clear:both;}.ps{clear:both;background:#FFF;color:#676566;border:1px solid #BACDEB;padding:3px;margin:2px 1px;}.tm{background:#feffe5;border:1px solid #e6de8d;padding:4px;}.tm a{color:#ba8300;}.tmn{color:#f00}.tk{color:#ffffff}.tc{color:#63676A;}.c{padding:2px 5px;}.c div a img{border:1px solid #C1C1C1;}.ct{color:#9d9d9d;font-style:italic;}.cmt{color:#9d9d9d;}.ctt{color:#000;}.cc{color:#2a5492;}.nk{color:#2a5492;}.por {border: 1px solid #CCCCCC;height:50px;width:50px;}.me{color:#000000;background:#FEDFDF;padding:2px 5px;}.pa{padding:2px 4px;}.nm{margin:10px 5px;padding:2px;}.hm{padding:5px;background:#FFF;color:#63676A;}.u{margin:2px 1px;background:#ffffff;border:1px solid #b1cee7;}.ut{padding:2px 3px;}.cd{text-align:center;}.r{color:#F00;}.g{color:#0F0;}.bn{background: transparent;border: 0 none;text-align: left;padding-left: 0;}</style><script>if(top != self){top.location = self.location;}</script></head><body><div class=\"tm\"><a href=\"https://weibo.cn/msg/?unread=46\"><span class=\"tmn\">46</span>私信</a>  <a href=\"https://weibo.cn/msg/clearAllUnread?type=dcm&amp;rl=1\"><img src=\"https://h5.sinaimg.cn/upload/2016/12/30/125/5366.gif\" alt=\"[X]\" /></a><br /></div><div class=\"n\" style=\"padding: 6px 4px;\"><a href=\"https://weibo.cn/?tf=5_009\" class=\"nl\">首页</a>|<a href=\"https://weibo.cn/msg/?tf=5_010\" class=\"nl\">消息</a>|<a href=\"https://huati.weibo.cn\" class=\"nl\">话题</a>|<a href=\"https://weibo.cn/search/?tf=5_012\" class=\"nl\">搜索</a>|<a href=\"/search/mblog?keyword=%E8%8B%B1%E6%96%87&amp;luicode=20000174&amp;rand=7975&amp;p=r\" class=\"nl\">刷新</a></div><div class=\"c tip\"><a href=\"https://m.weibo.cn\" id=\"top\" class=\"tl\">手机微博触屏版,点击前往&gt;&gt;</a></div><div class=\"c\"><form action=\"/search/\" method=\"post\"><div><input type=\"text\" name=\"keyword\" value=\"英文\" /><input type=\"submit\" name=\"smblog\" value=\"搜微博\" /></div></form></div><div class=\"c\"><span class=\"cmt\">共2505496431条</span></div><div class=\"tip\">类型:全部-<a href=\"/search/mblog/?keyword=%E8%8B%B1%E6%96%87&amp;filter=hasori\">原创</a>-<a href=\"/search/mblog/?keyword=%E8%8B%B1%E6%96%87&amp;filter=hasv\">认证</a>-<a href=\"/search/mblog/?keyword=%E8%8B%B1%E6%96%87&amp;advanced=mblog&amp;rl=1\">更多&gt;&gt;</a><br />排序:实时-<a href=\"/search/mblog/?keyword=%E8%8B%B1%E6%96%87&amp;sort=hot\">热门</a></div><div class=\"c\" id=\"M_HjvWE0tjG\"><div><a class=\"nk\" href=\"https://weibo.cn/u/3542385177\">爱早起的瓶儿</a><span class=\"cmt\"> 转发了 <a href=\"https://weibo.cn/u/5100223165\">蜂视频</a><img src=\"https://h5.sinaimg.cn/upload/2016/05/26/319/donate_btn_s.png\" alt=\"M\" /> 的微博:</span><span class=\"ctt\"><a href=\"https://weibo.cn/pages/100808topic?extparam=%E8%8B%B1%E6%96%87%E7%89%88%E8%A5%BF%E6%B8%B8%E8%AE%B0%E4%B8%BB%E9%A2%98%E6%9B%B2&amp;from=feed\">#英文版西游记主题曲#</a> 来欣赏一下外国小哥实力翻唱<img alt=\"[doge]\" src=\"//h5.sinaimg.cn/m/emoticon/icon/others/d_doge-d903433c82.png\" style=\"width:1em; height:1em;\" /></span> 蜂视频的微博视频  <span class=\"cmt\">赞[1287]</span> <span class=\"cmt\">原文转发[95]</span> <a href=\"https://weibo.cn/comment/HjtIB4j5r?rl=1#cmtfrm\" class=\"cc\">原文评论[136]</a><!----></div><div><span class=\"cmt\">转发理由:</span>求好汉歌链接  <br /><a href=\"https://weibo.cn/attitude/HjvWE0tjG/add?uid=2630752273&amp;rl=1&amp;st=0bfb99\">赞[0]</a> <a href=\"https://weibo.cn/repost/HjvWE0tjG?uid=3542385177&amp;rl=1\">转发[0]</a> <a href=\"https://weibo.cn/comment/HjvWE0tjG?uid=3542385177&amp;rl=1#cmtfrm\" class=\"cc\">评论[0]</a> <a href=\"https://weibo.cn/fav/addFav/HjvWE0tjG?rl=1&amp;st=0bfb99\">收藏</a><!----> <span class=\"ct\">1分钟前 来自微博 weibo.com</span></div></div><div class=\"s\"></div><div class=\"c\" id=\"M_HjvWyk7tv\"><div><a class=\"nk\" href=\"https://weibo.cn/u/2232580367\">冰雪靈兒08</a><span class=\"ctt\">:<a href=\"https://weibo.cn/pages/100808topic?extparam=%E8%8B%B1%E6%96%87%E5%90%AF%E8%92%99%E6%89%93%E5%8D%A1&amp;from=feed\">#英文启蒙打卡#</a>D21中午回去时间很短给她放了<span class=\"kt\">英文</span>歌曲，拼图玩了一下，鹌鹑蛋吃了很多最近几天特别喜欢吃，绘本瞎看了几本，小土豆<span class=\"kt\">英文</span>绘本自己点了下，看了中文绘本红帽子艾米莉 </span> <br /><a href=\"https://weibo.cn/attitude/HjvWyk7tv/add?uid=2630752273&amp;rl=1&amp;st=0bfb99\">赞[0]</a> <a href=\"https://weibo.cn/repost/HjvWyk7tv?uid=2232580367&amp;rl=1\">转发[0]</a> <a href=\"https://weibo.cn/comment/HjvWyk7tv?uid=2232580367&amp;rl=1#cmtfrm\" class=\"cc\">评论[0]</a> <a href=\"https://weibo.cn/fav/addFav/HjvWyk7tv?rl=1&amp;st=0bfb99\">收藏</a><!----> <span class=\"ct\">1分钟前 来自<a href=\"https://weibo.cn/sinaurl?f=w&amp;u=http%3A%2F%2Fdown.sina.cn%2Fsinaclient%2Fweibo%2Findex%2Fgsid%2F0%2Fmid%2F0\">iPhone客户端</a></span></div></div><div class=\"s\"></div><div class=\"c\" id=\"M_HjvWxc2e3\"><div><a class=\"nk\" href=\"https://weibo.cn/DylanThomas\">第二人造天堂</a><img src=\"https://h5.sinaimg.cn/upload/2016/05/26/319/donate_btn_s.png\" alt=\"M\" /><span class=\"cmt\"> 转发了 <a href=\"https://weibo.cn/u/1895682211\">直播时间</a><img src=\"https://h5.sinaimg.cn/upload/2016/05/26/319/5338.gif\" alt=\"V\" /><img src=\"https://h5.sinaimg.cn/upload/2016/05/26/319/donate_btn_s.png\" alt=\"M\" /> 的微博:</span><span class=\"ctt\">西游记主题曲<span class=\"kt\">英文</span>版！ <a href=\"https://weibo.cn/pages/100808topic?extparam=%E6%90%9E%E7%AC%91%E8%A7%86%E9%A2%91&amp;from=feed\">#搞笑视频#</a> 直播时间的秒拍视频 </span> <span class=\"cmt\">赞[35169]</span> <span class=\"cmt\">原文转发[7681]</span> <a href=\"https://weibo.cn/comment/Hjc8Z5GHx?rl=1#cmtfrm\" class=\"cc\">原文评论[2635]</a><!----></div><div><span class=\"cmt\">转发理由:</span>文体两开花//<a href=\"/n/Lionel-Luthor\">@Lionel-Luthor</a>:唱得不错啊//<a href=\"/n/%E7%BB%9D%E4%B8%8D%E4%BD%9C%E7%A7%80%E9%AA%86%E5%A4%A7%E4%BD%BF\">@绝不作秀骆大使</a>:哈哈，好好好//<a href=\"/n/%E4%B8%9C%E9%82%AA%E5%BD%B1%E8%A7%86\">@东邪影视</a>: 开花开花！//<a href=\"/n/%E4%B9%9D%E6%AE%B5%E6%A3%8B%E6%89%8B%E8%94%A1%E8%8F%9C%E5%AD%90\">@九段棋手蔡菜子</a>:开花开花！//<a href=\"/n/Poc-Sir\">@Poc-Sir</a>:是直接開花還是走流程  <br /><a href=\"https://weibo.cn/attitude/HjvWxc2e3/add?uid=2630752273&amp;rl=1&amp;st=0bfb99\">赞[0]</a> <a href=\"https://weibo.cn/repost/HjvWxc2e3?uid=6303992195&amp;rl=1\">转发[0]</a> <a href=\"https://weibo.cn/comment/HjvWxc2e3?uid=6303992195&amp;rl=1#cmtfrm\" class=\"cc\">评论[0]</a> <a href=\"https://weibo.cn/fav/addFav/HjvWxc2e3?rl=1&amp;st=0bfb99\">收藏</a><!----> <span class=\"ct\">1分钟前 来自Weibo.intl</span></div></div><div class=\"s\"></div><div class=\"c\" id=\"M_HjvWpvKvN\"><div><a class=\"nk\" href=\"https://weibo.cn/u/2313471933\">随便起个名字的废话博</a><span class=\"ctt\">:今天我努力看书了吗？ <br />看了好几页，竟然还看着前言。。。。<br />数学，软件，金融汇编成一本全<span class=\"kt\">英文</span>的书，<br />真的要了我亲命了 </span></div><div><a href=\"https://weibo.cn/mblog/pic/HjvWpvKvN?rl=1\"><img src=\"http://wx2.sinaimg.cn/wap180/89e4c7bdly1g0ryvqpa8ij20zk0k00v9.jpg\" alt=\"图片\" class=\"ib\" /></a> <a href=\"https://weibo.cn/mblog/oripic?id=HjvWpvKvN&amp;u=89e4c7bdly1g0ryvqpa8ij20zk0k00v9\">原图</a> <br /><a href=\"https://weibo.cn/attitude/HjvWpvKvN/add?uid=2630752273&amp;rl=1&amp;st=0bfb99\">赞[0]</a> <a href=\"https://weibo.cn/repost/HjvWpvKvN?uid=2313471933&amp;rl=1\">转发[0]</a> <a href=\"https://weibo.cn/comment/HjvWpvKvN?uid=2313471933&amp;rl=1#cmtfrm\" class=\"cc\">评论[0]</a> <a href=\"https://weibo.cn/fav/addFav/HjvWpvKvN?rl=1&amp;st=0bfb99\">收藏</a><!----> <span class=\"ct\">1分钟前 来自<a href=\"https://weibo.cn/sinaurl?f=w&amp;u=http%3A%2F%2Fdown.sina.cn%2Fsinaclient%2Fweibo%2Findex%2Fgsid%2F0%2Fmid%2F0\">iPhone客户端</a></span></div></div><div class=\"s\"></div><div class=\"c\" id=\"M_HjvWpuwFQ\"><div><a class=\"nk\" href=\"https://weibo.cn/nicociting\">Nicociting</a><img src=\"https://h5.sinaimg.cn/upload/2016/05/26/319/5338.gif\" alt=\"V\" /><img src=\"https://h5.sinaimg.cn/upload/2016/05/26/319/donate_btn_s.png\" alt=\"M\" /><span class=\"cmt\"> 转发了 <a href=\"https://weibo.cn/StevenYin1998\">Schwertlilien紗英</a><img src=\"https://h5.sinaimg.cn/upload/2016/05/26/319/donate_btn_s.png\" alt=\"M\" /> 的微博:</span><span class=\"ctt\">我操，老太写的字还是手写体。。。 <a href=\"https://weibo.cn/sinaurl?f=w&amp;u=http%3A%2F%2Ft.cn%2FR2WxswF&amp;ep=HjvWpuwFQ%2C6250685187%2CHjvSMAFIo%2C5506892220\">http://t.cn/R2WxswF</a> </span></div><div><a href=\"https://weibo.cn/mblog/pic/HjvSMAFIo?rl=1\"><img src=\"http://wx4.sinaimg.cn/wap180/0060Gmeggy1g0ryne8nskj32o03k0x6q.jpg\" alt=\"图片\" class=\"ib\" /></a> <a href=\"https://weibo.cn/mblog/oripic?id=HjvSMAFIo&amp;u=0060Gmeggy1g0ryne8nskj32o03k0x6q\">原图</a> <span class=\"cmt\">赞[1]</span> <span class=\"cmt\">原文转发[1]</span> <a href=\"https://weibo.cn/comment/HjvSMAFIo?rl=1#cmtfrm\" class=\"cc\">原文评论[0]</a><!----></div><div><span class=\"cmt\">转发理由:</span>查了下原来上智是天主教大学 <span class=\"kt\">英文</span>校名的Sophia在希腊文即为智慧之意  <br /><a href=\"https://weibo.cn/attitude/HjvWpuwFQ/add?uid=2630752273&amp;rl=1&amp;st=0bfb99\">赞[0]</a> <a href=\"https://weibo.cn/repost/HjvWpuwFQ?uid=6250685187&amp;rl=1\">转发[0]</a> <a href=\"https://weibo.cn/comment/HjvWpuwFQ?uid=6250685187&amp;rl=1#cmtfrm\" class=\"cc\">评论[0]</a> <a href=\"https://weibo.cn/fav/addFav/HjvWpuwFQ?rl=1&amp;st=0bfb99\">收藏</a><!----> <span class=\"ct\">1分钟前</span></div></div><div class=\"s\"></div><div class=\"c\" id=\"M_HjvWn9V3a\"><div><a class=\"nk\" href=\"https://weibo.cn/u/5507436553\">懒癌者懒着起名字</a><span class=\"cmt\"> 转发了 <a href=\"https://weibo.cn/alibuybuy\">互联网的那点事</a><img src=\"https://h5.sinaimg.cn/upload/2016/05/26/319/5338.gif\" alt=\"V\" /><img src=\"https://h5.sinaimg.cn/upload/2016/05/26/319/donate_btn_s.png\" alt=\"M\" /> 的微博:</span><span class=\"ctt\">厉害了 差点搞垮一家公司<img alt=\"[挖鼻]\" src=\"//h5.sinaimg.cn/m/emoticon/icon/default/d_wabishi-f5765407f7.png\" style=\"width:1em; height:1em;\" /></span> </div><div><a href=\"https://weibo.cn/mblog/pic/HjtkQ3sA3?rl=1\"><img src=\"http://wx2.sinaimg.cn/wap180/6106a4f0ly1g0rndun0tdj20bw078mxf.jpg\" alt=\"图片\" class=\"ib\" /></a> <a href=\"https://weibo.cn/mblog/oripic?id=HjtkQ3sA3&amp;u=6106a4f0ly1g0rndun0tdj20bw078mxf\">原图</a> <span class=\"cmt\">赞[4754]</span> <span class=\"cmt\">原文转发[13146]</span> <a href=\"https://weibo.cn/comment/HjtkQ3sA3?rl=1#cmtfrm\" class=\"cc\">原文评论[2620]</a><!----></div><div><span class=\"cmt\">转发理由:</span>中文字体，最安全的就是宋体、仿宋、黑体、楷体、隶书、幼圆。 另外，思源黑体（七种粗细选择），思源宋体（七种粗细），庞门正道标题体，文泉驿系列，站酷系列（目前有四种），方正的楷体、黑体、仿宋、书宋（不能转换和改编）。 Font Space，里面也有免费可商用字体（<span class=\"kt\">英文</span>，不少），<span class=\"kt\">英文</span>还有Arual。  <br /><a href=\"https://weibo.cn/attitude/HjvWn9V3a/add?uid=2630752273&amp;rl=1&amp;st=0bfb99\">赞[0]</a> <a href=\"https://weibo.cn/repost/HjvWn9V3a?uid=5507436553&amp;rl=1\">转发[0]</a> <a href=\"https://weibo.cn/comment/HjvWn9V3a?uid=5507436553&amp;rl=1#cmtfrm\" class=\"cc\">评论[0]</a> <a href=\"https://weibo.cn/fav/addFav/HjvWn9V3a?rl=1&amp;st=0bfb99\">收藏</a><!----> <span class=\"ct\">1分钟前 来自Android</span></div></div><div class=\"s\"></div><div class=\"c\" id=\"M_HjvWmyfWG\"><div><a class=\"nk\" href=\"https://weibo.cn/u/1661522697\">地球人周周周</a><img src=\"https://h5.sinaimg.cn/upload/2016/05/26/319/5547.gif\" alt=\"达人\" /><span class=\"ctt\">:第一遍没发成功，继续读沃尔顿的富甲美国，其实<span class=\"kt\">英文</span>版原名叫 made in america my story 沃尔顿一定不想被人这么翻译。 <a href=\"https://weibo.cn/sinaurl?f=w&amp;u=http%3A%2F%2Ft.cn%2FR3iwEob&amp;ep=HjvWmyfWG%2C1661522697%2CHjvWmyfWG%2C1661522697\">http://t.cn/R3iwEob</a> </span></div><div><a href=\"https://weibo.cn/mblog/pic/HjvWmyfWG?rl=1\"><img src=\"http://wx2.sinaimg.cn/wap180/6308d309ly1g0rywnonfgj20u00xthad.jpg\" alt=\"图片\" class=\"ib\" /></a> <a href=\"https://weibo.cn/mblog/oripic?id=HjvWmyfWG&amp;u=6308d309ly1g0rywnonfgj20u00xthad\">原图</a> <br /><a href=\"https://weibo.cn/attitude/HjvWmyfWG/add?uid=2630752273&amp;rl=1&amp;st=0bfb99\">赞[0]</a> <a href=\"https://weibo.cn/repost/HjvWmyfWG?uid=1661522697&amp;rl=1\">转发[0]</a> <a href=\"https://weibo.cn/comment/HjvWmyfWG?uid=1661522697&amp;rl=1#cmtfrm\" class=\"cc\">评论[0]</a> <a href=\"https://weibo.cn/fav/addFav/HjvWmyfWG?rl=1&amp;st=0bfb99\">收藏</a><!----> <span class=\"ct\">1分钟前 来自Canva设计</span></div></div><div class=\"s\"></div><div class=\"c\" id=\"M_HjvWi5jFd\"><div><a class=\"nk\" href=\"https://weibo.cn/u/5601685719\">666的小梳子</a><span class=\"ctt\">:我已坚持9天<span class=\"kt\">英文</span>阅读, 完成9篇文章｜百词斩爱阅读 <a href=\"https://weibo.cn/sinaurl?f=w&amp;u=http%3A%2F%2Ft.cn%2FEIpPk3u&amp;ep=HjvWi5jFd%2C5601685719%2CHjvWi5jFd%2C5601685719\">http://t.cn/EIpPk3u</a> </span></div><div><a href=\"https://weibo.cn/mblog/pic/HjvWi5jFd?rl=1\"><img src=\"http://wx1.sinaimg.cn/wap180/006766lFgy1g0rywfmrd9j305k05kjre.jpg\" alt=\"图片\" class=\"ib\" /></a> <a href=\"https://weibo.cn/mblog/oripic?id=HjvWi5jFd&amp;u=006766lFgy1g0rywfmrd9j305k05kjre\">原图</a> <br /><a href=\"https://weibo.cn/attitude/HjvWi5jFd/add?uid=2630752273&amp;rl=1&amp;st=0bfb99\">赞[0]</a> <a href=\"https://weibo.cn/repost/HjvWi5jFd?uid=5601685719&amp;rl=1\">转发[0]</a> <a href=\"https://weibo.cn/comment/HjvWi5jFd?uid=5601685719&amp;rl=1#cmtfrm\" class=\"cc\">评论[0]</a> <a href=\"https://weibo.cn/fav/addFav/HjvWi5jFd?rl=1&amp;st=0bfb99\">收藏</a><!----> <span class=\"ct\">1分钟前 来自百词斩图背单词</span></div></div><div class=\"s\"></div><div class=\"pa\" id=\"pagelist\"><form action=\"/search/mblog?hideSearchFrame=&amp;keyword=%E8%8B%B1%E6%96%87\" method=\"post\"><div><a href=\"/search/mblog?hideSearchFrame=&amp;keyword=%E8%8B%B1%E6%96%87&amp;page=2\">下页</a> <input name=\"mp\" type=\"hidden\" value=\"100\" /><input type=\"text\" name=\"page\" size=\"2\" style=\"-wap-input-format: &quot;*N&quot;\" /><input type=\"submit\" value=\"跳页\" /> 1/100页</div></form></div><div class=\"pm\"><span class=\"pmf\"><a href=\"#top\" id=\"mblogform\">返回页面顶部</a><br /></span>针对\"#英文#\"说点什么:<form action=\"/mblog/sendmblog?st=0bfb99\" accept-charset=\"UTF-8\" method=\"post\"><div><input type=\"hidden\" name=\"rl\" value=\"1\" /><textarea name=\"content\" rows=\"2\" cols=\"20\">#英文#</textarea><br /><input type=\"submit\" value=\"发布\" /></div></form></div><div class=\"cd\"><a href=\"#top\"><img src=\"https://h5.sinaimg.cn/upload/2017/04/27/319/5e990ec2.gif\" alt=\"TOP\" /></a></div><div class=\"pms\"><a href=\"https://weibo.cn\">首页</a>.<a href=\"https://weibo.cn/topic/240489\">反馈</a>.<a href=\"https://weibo.cn/page/91\">帮助</a>.<a href=\"http://down.sina.cn/weibo/default/index/soft_id/1/mid/0\">客户端</a>.<a href=\"https://weibo.cn/spam/?rl=1&amp;type=3\" class=\"kt\">举报</a>.<a href=\"https://passport.sina.cn/sso/logout?r=https%3A%2F%2Fweibo.cn%2Fpub%2F%3Fvt%3D&amp;entry=mweibo\">退出</a></div><div class=\"c\">设置:<a href=\"https://weibo.cn/account/customize/skin?tf=7_005&amp;st=0bfb99\">皮肤</a>.<a href=\"https://weibo.cn/account/customize/pic?tf=7_006&amp;st=0bfb99\">图片</a>.<a href=\"https://weibo.cn/account/customize/pagesize?tf=7_007&amp;st=0bfb99\">条数</a>.<a href=\"https://weibo.cn/account/privacy/?tf=7_008&amp;st=0bfb99\">隐私</a></div><div class=\"c\">彩版|<a href=\"https://m.weibo.cn/?tf=7_010\">触屏</a>|<a href=\"https://weibo.cn/page/521?tf=7_011\">语音</a></div><div class=\"b\">weibo.cn[03-05 15:51]</div></body></html>\n"
     ]
    },
    {
     "ename": "WebDriverException",
     "evalue": "Message: invalid session id\n  (Driver info: chromedriver=2.46.628402 (536cd7adbad73a3783fdc2cab92ab2ba7ec361e1),platform=Windows NT 10.0.17134 x86_64)\n",
     "output_type": "error",
     "traceback": [
      "\u001b[1;31m---------------------------------------------------------------------------\u001b[0m",
      "\u001b[1;31mWebDriverException\u001b[0m                        Traceback (most recent call last)",
      "\u001b[1;32m<ipython-input-56-75fd990f0a25>\u001b[0m in \u001b[0;36m<module>\u001b[1;34m()\u001b[0m\n\u001b[0;32m     25\u001b[0m \u001b[0mtime\u001b[0m\u001b[1;33m.\u001b[0m\u001b[0msleep\u001b[0m\u001b[1;33m(\u001b[0m\u001b[1;36m3\u001b[0m\u001b[1;33m)\u001b[0m\u001b[1;33m\u001b[0m\u001b[0m\n\u001b[0;32m     26\u001b[0m \u001b[0mprint\u001b[0m\u001b[1;33m(\u001b[0m\u001b[0mdriver\u001b[0m\u001b[1;33m.\u001b[0m\u001b[0mpage_source\u001b[0m\u001b[1;33m)\u001b[0m\u001b[1;33m\u001b[0m\u001b[0m\n\u001b[1;32m---> 27\u001b[1;33m \u001b[0mlist_weibo\u001b[0m \u001b[1;33m=\u001b[0m \u001b[0mbrowser\u001b[0m\u001b[1;33m.\u001b[0m\u001b[0mfind_elements\u001b[0m\u001b[1;33m(\u001b[0m\u001b[0mBy\u001b[0m\u001b[1;33m.\u001b[0m\u001b[0mXPATH\u001b[0m\u001b[1;33m,\u001b[0m\u001b[1;34m\"//*[@class=\\\"c\\\"]\"\u001b[0m\u001b[1;33m)\u001b[0m\u001b[1;33m\u001b[0m\u001b[0m\n\u001b[0m\u001b[0;32m     28\u001b[0m \u001b[1;32mfor\u001b[0m \u001b[0mitem\u001b[0m \u001b[1;32min\u001b[0m \u001b[0mlist_weibo\u001b[0m\u001b[1;33m:\u001b[0m\u001b[1;33m\u001b[0m\u001b[0m\n\u001b[0;32m     29\u001b[0m     \u001b[0mprint\u001b[0m\u001b[1;33m(\u001b[0m\u001b[0mitem\u001b[0m\u001b[1;33m.\u001b[0m\u001b[0mtext\u001b[0m\u001b[1;33m)\u001b[0m\u001b[1;33m\u001b[0m\u001b[0m\n",
      "\u001b[1;32m~\\Anaconda3\\lib\\site-packages\\selenium\\webdriver\\remote\\webdriver.py\u001b[0m in \u001b[0;36mfind_elements\u001b[1;34m(self, by, value)\u001b[0m\n\u001b[0;32m   1005\u001b[0m         return self.execute(Command.FIND_ELEMENTS, {\n\u001b[0;32m   1006\u001b[0m             \u001b[1;34m'using'\u001b[0m\u001b[1;33m:\u001b[0m \u001b[0mby\u001b[0m\u001b[1;33m,\u001b[0m\u001b[1;33m\u001b[0m\u001b[0m\n\u001b[1;32m-> 1007\u001b[1;33m             'value': value})['value'] or []\n\u001b[0m\u001b[0;32m   1008\u001b[0m \u001b[1;33m\u001b[0m\u001b[0m\n\u001b[0;32m   1009\u001b[0m     \u001b[1;33m@\u001b[0m\u001b[0mproperty\u001b[0m\u001b[1;33m\u001b[0m\u001b[0m\n",
      "\u001b[1;32m~\\Anaconda3\\lib\\site-packages\\selenium\\webdriver\\remote\\webdriver.py\u001b[0m in \u001b[0;36mexecute\u001b[1;34m(self, driver_command, params)\u001b[0m\n\u001b[0;32m    319\u001b[0m         \u001b[0mresponse\u001b[0m \u001b[1;33m=\u001b[0m \u001b[0mself\u001b[0m\u001b[1;33m.\u001b[0m\u001b[0mcommand_executor\u001b[0m\u001b[1;33m.\u001b[0m\u001b[0mexecute\u001b[0m\u001b[1;33m(\u001b[0m\u001b[0mdriver_command\u001b[0m\u001b[1;33m,\u001b[0m \u001b[0mparams\u001b[0m\u001b[1;33m)\u001b[0m\u001b[1;33m\u001b[0m\u001b[0m\n\u001b[0;32m    320\u001b[0m         \u001b[1;32mif\u001b[0m \u001b[0mresponse\u001b[0m\u001b[1;33m:\u001b[0m\u001b[1;33m\u001b[0m\u001b[0m\n\u001b[1;32m--> 321\u001b[1;33m             \u001b[0mself\u001b[0m\u001b[1;33m.\u001b[0m\u001b[0merror_handler\u001b[0m\u001b[1;33m.\u001b[0m\u001b[0mcheck_response\u001b[0m\u001b[1;33m(\u001b[0m\u001b[0mresponse\u001b[0m\u001b[1;33m)\u001b[0m\u001b[1;33m\u001b[0m\u001b[0m\n\u001b[0m\u001b[0;32m    322\u001b[0m             response['value'] = self._unwrap_value(\n\u001b[0;32m    323\u001b[0m                 response.get('value', None))\n",
      "\u001b[1;32m~\\Anaconda3\\lib\\site-packages\\selenium\\webdriver\\remote\\errorhandler.py\u001b[0m in \u001b[0;36mcheck_response\u001b[1;34m(self, response)\u001b[0m\n\u001b[0;32m    240\u001b[0m                 \u001b[0malert_text\u001b[0m \u001b[1;33m=\u001b[0m \u001b[0mvalue\u001b[0m\u001b[1;33m[\u001b[0m\u001b[1;34m'alert'\u001b[0m\u001b[1;33m]\u001b[0m\u001b[1;33m.\u001b[0m\u001b[0mget\u001b[0m\u001b[1;33m(\u001b[0m\u001b[1;34m'text'\u001b[0m\u001b[1;33m)\u001b[0m\u001b[1;33m\u001b[0m\u001b[0m\n\u001b[0;32m    241\u001b[0m             \u001b[1;32mraise\u001b[0m \u001b[0mexception_class\u001b[0m\u001b[1;33m(\u001b[0m\u001b[0mmessage\u001b[0m\u001b[1;33m,\u001b[0m \u001b[0mscreen\u001b[0m\u001b[1;33m,\u001b[0m \u001b[0mstacktrace\u001b[0m\u001b[1;33m,\u001b[0m \u001b[0malert_text\u001b[0m\u001b[1;33m)\u001b[0m\u001b[1;33m\u001b[0m\u001b[0m\n\u001b[1;32m--> 242\u001b[1;33m         \u001b[1;32mraise\u001b[0m \u001b[0mexception_class\u001b[0m\u001b[1;33m(\u001b[0m\u001b[0mmessage\u001b[0m\u001b[1;33m,\u001b[0m \u001b[0mscreen\u001b[0m\u001b[1;33m,\u001b[0m \u001b[0mstacktrace\u001b[0m\u001b[1;33m)\u001b[0m\u001b[1;33m\u001b[0m\u001b[0m\n\u001b[0m\u001b[0;32m    243\u001b[0m \u001b[1;33m\u001b[0m\u001b[0m\n\u001b[0;32m    244\u001b[0m     \u001b[1;32mdef\u001b[0m \u001b[0m_value_or_default\u001b[0m\u001b[1;33m(\u001b[0m\u001b[0mself\u001b[0m\u001b[1;33m,\u001b[0m \u001b[0mobj\u001b[0m\u001b[1;33m,\u001b[0m \u001b[0mkey\u001b[0m\u001b[1;33m,\u001b[0m \u001b[0mdefault\u001b[0m\u001b[1;33m)\u001b[0m\u001b[1;33m:\u001b[0m\u001b[1;33m\u001b[0m\u001b[0m\n",
      "\u001b[1;31mWebDriverException\u001b[0m: Message: invalid session id\n  (Driver info: chromedriver=2.46.628402 (536cd7adbad73a3783fdc2cab92ab2ba7ec361e1),platform=Windows NT 10.0.17134 x86_64)\n"
     ]
    }
   ],
   "source": [
    "from selenium.webdriver.common.keys import Keys\n",
    "# create the webdriver\n",
    "driver = webdriver.Chrome('C:\\\\Users\\\\String\\\\Downloads\\\\chromedriver_win32\\\\chromedriver.exe')\n",
    "driver.maximize_window() \n",
    "# go to the weibo login page\n",
    "driver.get('https://passport.weibo.cn/signin/login') \n",
    "time.sleep(3)\n",
    "input_name = driver.find_element(By.ID,'loginName')\n",
    "input_name.clear() \n",
    "input_name.send_keys('account') #enter your weibo account\n",
    "input_name.send_keys(Keys.ENTER)\n",
    " \n",
    "input_pass = driver.find_element(By.ID,'loginPassword')\n",
    "input_pass.clear()\n",
    "input_pass.send_keys('pwd')#enter your weibo password\n",
    "time.sleep(3)\n",
    "\n",
    "driver.find_element(By.ID,'loginAction').click()\n",
    "time.sleep(3)\n",
    "cookies=driver.get_cookies()\n",
    "print(cookies)\n",
    "\n",
    "# go to another page to get source data\n",
    "driver.get('https://weibo.cn/search/mblog?hideSearchFrame=&keyword=英文')\n",
    "time.sleep(3)\n",
    "print(driver.page_source)\n",
    "\n",
    "# next you can use find_element or beautifulsoup library to extract needed features or attributes \n",
    "\n"
   ]
  },
  {
   "cell_type": "code",
   "execution_count": null,
   "metadata": {},
   "outputs": [],
   "source": []
  }
 ],
 "metadata": {
  "kernelspec": {
   "display_name": "Python 3",
   "language": "python",
   "name": "python3"
  },
  "language_info": {
   "codemirror_mode": {
    "name": "ipython",
    "version": 3
   },
   "file_extension": ".py",
   "mimetype": "text/x-python",
   "name": "python",
   "nbconvert_exporter": "python",
   "pygments_lexer": "ipython3",
   "version": "3.7.0"
  }
 },
 "nbformat": 4,
 "nbformat_minor": 2
}
