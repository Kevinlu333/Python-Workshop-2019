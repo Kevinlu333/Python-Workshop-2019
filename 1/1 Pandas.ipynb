{
 "cells": [
  {
   "cell_type": "markdown",
   "metadata": {},
   "source": [
    "3 frequently used data types:<br />\n",
    "\n",
    "1.list<br />\n",
    "\n",
    "2.dictionary<br />\n",
    "\n",
    "3.DataFrame<br />\n"
   ]
  },
  {
   "cell_type": "code",
   "execution_count": 1,
   "metadata": {},
   "outputs": [],
   "source": [
    "import pandas as pd"
   ]
  },
  {
   "cell_type": "code",
   "execution_count": 2,
   "metadata": {},
   "outputs": [
    {
     "name": "stdout",
     "output_type": "stream",
     "text": [
      "    state  year  pop\n",
      "0    Ohio  2000  1.5\n",
      "1    Ohio  2001  1.7\n",
      "2    Ohio  2002  3.6\n",
      "3  Nevada  2001  2.4\n",
      "4  Nevada  2002  2.9\n"
     ]
    }
   ],
   "source": [
    "#Create a DataFrame from a dictionary of lists\n",
    "data = {'state': ['Ohio', 'Ohio', 'Ohio', 'Nevada', 'Nevada'],\n",
    "'year': [2000, 2001, 2002, 2001, 2002],\n",
    "'pop': [1.5, 1.7, 3.6, 2.4, 2.9]}\n",
    "df = pd.DataFrame(data)\n",
    "print (df)"
   ]
  },
  {
   "cell_type": "code",
   "execution_count": 7,
   "metadata": {},
   "outputs": [
    {
     "name": "stdout",
     "output_type": "stream",
     "text": [
      "        0     1    2\n",
      "0    Ohio  2000  1.5\n",
      "1    Ohio  2001  1.7\n",
      "2    Ohio  2002  3.6\n",
      "3  Nevada  2001  2.4\n",
      "4  Nevada  2002  2.9\n"
     ]
    }
   ],
   "source": [
    "#Create a DataFrame from a nested list\n",
    "state=['Ohio', 'Ohio', 'Ohio', 'Nevada', 'Nevada']\n",
    "year=[2000, 2001, 2002, 2001, 2002]\n",
    "pop=[1.5, 1.7, 3.6, 2.4, 2.9]\n",
    "data1 = [state, year, pop]\n",
    "df1 = pd.DataFrame(data1).T  #transpose\n",
    "print (df1)"
   ]
  },
  {
   "cell_type": "code",
   "execution_count": 9,
   "metadata": {},
   "outputs": [
    {
     "name": "stdout",
     "output_type": "stream",
     "text": [
      "      weibo_id                           用户地址        昵称 性别  地域    粉丝数  微博数  \\\n",
      "0  M_FCp8SbTvT  https://weibo.cn/u/3892115560  遇见最最最美的你  男  北京   1200   25   \n",
      "1  M_FCp88bd6m  https://weibo.cn/u/2286141320     姐反转咋的  女  其他  18678  374   \n",
      "2  M_FCp7Q7H9v  https://weibo.cn/u/2177833830     小行星语林  男  河北  17852  137   \n",
      "3  M_FCp5YgHkP  https://weibo.cn/u/2177833830     小行星语林  男  河北  17852  137   \n",
      "4  M_FCp5QfVls  https://weibo.cn/u/5545139597     秦岭山如画  男  澳门   8077  359   \n",
      "\n",
      "    关注数                                               div1  \\\n",
      "0   180  遇见最最最美的你:我免费围观了 @黄章晋ster 的回答，问题价值 200.00 元，快来一...   \n",
      "1  3287  姐反转咋的?转发了?jrry89?的微博:转基因公司正在利用基因编辑技术开发农作物试图规避监...   \n",
      "2   129  小行星语林:发表了博文《【转】科普贴：抗虫转基因作物有多毒？》科普贴：抗虫转基因作物有多毒？...   \n",
      "3   129  小行星语林:发表了一篇转载博文《[转载]作家静渊:血淋淋的死亡事件揭穿了转基因不用农药的弥天...   \n",
      "4  1151  秦岭山如画?转发了?情迷意恋?的微博:袁隆平眼中的转基因 情迷意恋的秒拍视频 ??赞[55]...   \n",
      "\n",
      "                                                div2  \\\n",
      "0                                                NaN   \n",
      "1  转发理由:这种“攻击”是该多晒晒。[嘻嘻]//@多多d617: 晒！//@陈一文顾问 诚请@...   \n",
      "2                                                NaN   \n",
      "3                                                NaN   \n",
      "4  转发理由:外国资本利益集团看家护院的打手，美国人正眼都不看它们一眼的[嘻嘻][握手]//@毛...   \n",
      "\n",
      "                         ...                          点赞数            时间  \\\n",
      "0                        ...                            0  01月01日 23:59   \n",
      "1                        ...                            1  01月01日 23:57   \n",
      "2                        ...                            0  01月01日 23:56   \n",
      "3                        ...                            0  01月01日 23:52   \n",
      "4                        ...                            0  01月01日 23:51   \n",
      "\n",
      "             来源  是否转发     原昵称  \\\n",
      "0  微博 weibo.com     0     NaN   \n",
      "1  微博 weibo.com     1  jrry89   \n",
      "2          新浪博客     0     NaN   \n",
      "3          新浪博客     0     NaN   \n",
      "4    金立大金钢2 全面屏     1    情迷意恋   \n",
      "\n",
      "                                                 原文本    原转发数   原评论数  原点赞数  \\\n",
      "0                                                NaN     NaN    NaN   NaN   \n",
      "1  转基因公司正在利用基因编辑技术开发农作物试图规避监管，去年美国农业部批准了用CRISPR开发...   721.0  325.0  26.0   \n",
      "2                                                NaN     NaN    NaN   NaN   \n",
      "3                                                NaN     NaN    NaN   NaN   \n",
      "4                                袁隆平眼中的转基因 情迷意恋的秒拍视频  1337.0  638.0  55.0   \n",
      "\n",
      "                                             微博原html  \n",
      "0  <div class=\"c\" id=\"M_FCp8SbTvT\"><div><a class=...  \n",
      "1  <div class=\"c\" id=\"M_FCp88bd6m\"><div><a class=...  \n",
      "2  <div class=\"c\" id=\"M_FCp7Q7H9v\"><div><a class=...  \n",
      "3  <div class=\"c\" id=\"M_FCp5YgHkP\"><div><a class=...  \n",
      "4  <div class=\"c\" id=\"M_FCp5QfVls\"><div><a class=...  \n",
      "\n",
      "[5 rows x 24 columns]\n"
     ]
    }
   ],
   "source": [
    "#pandas.read_csv\n",
    "df = pd.read_csv(\"GMO dataset.csv\")\n",
    "print (df.head())"
   ]
  },
  {
   "cell_type": "code",
   "execution_count": 10,
   "metadata": {},
   "outputs": [
    {
     "data": {
      "text/html": [
       "<div>\n",
       "<style scoped>\n",
       "    .dataframe tbody tr th:only-of-type {\n",
       "        vertical-align: middle;\n",
       "    }\n",
       "\n",
       "    .dataframe tbody tr th {\n",
       "        vertical-align: top;\n",
       "    }\n",
       "\n",
       "    .dataframe thead th {\n",
       "        text-align: right;\n",
       "    }\n",
       "</style>\n",
       "<table border=\"1\" class=\"dataframe\">\n",
       "  <thead>\n",
       "    <tr style=\"text-align: right;\">\n",
       "      <th></th>\n",
       "      <th>weibo_id</th>\n",
       "      <th>用户地址</th>\n",
       "      <th>昵称</th>\n",
       "      <th>性别</th>\n",
       "      <th>地域</th>\n",
       "      <th>粉丝数</th>\n",
       "      <th>微博数</th>\n",
       "      <th>关注数</th>\n",
       "      <th>div1</th>\n",
       "      <th>div2</th>\n",
       "      <th>...</th>\n",
       "      <th>点赞数</th>\n",
       "      <th>时间</th>\n",
       "      <th>来源</th>\n",
       "      <th>是否转发</th>\n",
       "      <th>原昵称</th>\n",
       "      <th>原文本</th>\n",
       "      <th>原转发数</th>\n",
       "      <th>原评论数</th>\n",
       "      <th>原点赞数</th>\n",
       "      <th>微博原html</th>\n",
       "    </tr>\n",
       "  </thead>\n",
       "  <tbody>\n",
       "    <tr>\n",
       "      <th>0</th>\n",
       "      <td>M_FCp8SbTvT</td>\n",
       "      <td>https://weibo.cn/u/3892115560</td>\n",
       "      <td>遇见最最最美的你</td>\n",
       "      <td>男</td>\n",
       "      <td>北京</td>\n",
       "      <td>1200</td>\n",
       "      <td>25</td>\n",
       "      <td>180</td>\n",
       "      <td>遇见最最最美的你:我免费围观了 @黄章晋ster 的回答，问题价值 200.00 元，快来一...</td>\n",
       "      <td>NaN</td>\n",
       "      <td>...</td>\n",
       "      <td>0</td>\n",
       "      <td>01月01日 23:59</td>\n",
       "      <td>微博 weibo.com</td>\n",
       "      <td>0</td>\n",
       "      <td>NaN</td>\n",
       "      <td>NaN</td>\n",
       "      <td>NaN</td>\n",
       "      <td>NaN</td>\n",
       "      <td>NaN</td>\n",
       "      <td>&lt;div class=\"c\" id=\"M_FCp8SbTvT\"&gt;&lt;div&gt;&lt;a class=...</td>\n",
       "    </tr>\n",
       "    <tr>\n",
       "      <th>1</th>\n",
       "      <td>M_FCp88bd6m</td>\n",
       "      <td>https://weibo.cn/u/2286141320</td>\n",
       "      <td>姐反转咋的</td>\n",
       "      <td>女</td>\n",
       "      <td>其他</td>\n",
       "      <td>18678</td>\n",
       "      <td>374</td>\n",
       "      <td>3287</td>\n",
       "      <td>姐反转咋的?转发了?jrry89?的微博:转基因公司正在利用基因编辑技术开发农作物试图规避监...</td>\n",
       "      <td>转发理由:这种“攻击”是该多晒晒。[嘻嘻]//@多多d617: 晒！//@陈一文顾问 诚请@...</td>\n",
       "      <td>...</td>\n",
       "      <td>1</td>\n",
       "      <td>01月01日 23:57</td>\n",
       "      <td>微博 weibo.com</td>\n",
       "      <td>1</td>\n",
       "      <td>jrry89</td>\n",
       "      <td>转基因公司正在利用基因编辑技术开发农作物试图规避监管，去年美国农业部批准了用CRISPR开发...</td>\n",
       "      <td>721.0</td>\n",
       "      <td>325.0</td>\n",
       "      <td>26.0</td>\n",
       "      <td>&lt;div class=\"c\" id=\"M_FCp88bd6m\"&gt;&lt;div&gt;&lt;a class=...</td>\n",
       "    </tr>\n",
       "    <tr>\n",
       "      <th>2</th>\n",
       "      <td>M_FCp7Q7H9v</td>\n",
       "      <td>https://weibo.cn/u/2177833830</td>\n",
       "      <td>小行星语林</td>\n",
       "      <td>男</td>\n",
       "      <td>河北</td>\n",
       "      <td>17852</td>\n",
       "      <td>137</td>\n",
       "      <td>129</td>\n",
       "      <td>小行星语林:发表了博文《【转】科普贴：抗虫转基因作物有多毒？》科普贴：抗虫转基因作物有多毒？...</td>\n",
       "      <td>NaN</td>\n",
       "      <td>...</td>\n",
       "      <td>0</td>\n",
       "      <td>01月01日 23:56</td>\n",
       "      <td>新浪博客</td>\n",
       "      <td>0</td>\n",
       "      <td>NaN</td>\n",
       "      <td>NaN</td>\n",
       "      <td>NaN</td>\n",
       "      <td>NaN</td>\n",
       "      <td>NaN</td>\n",
       "      <td>&lt;div class=\"c\" id=\"M_FCp7Q7H9v\"&gt;&lt;div&gt;&lt;a class=...</td>\n",
       "    </tr>\n",
       "    <tr>\n",
       "      <th>3</th>\n",
       "      <td>M_FCp5YgHkP</td>\n",
       "      <td>https://weibo.cn/u/2177833830</td>\n",
       "      <td>小行星语林</td>\n",
       "      <td>男</td>\n",
       "      <td>河北</td>\n",
       "      <td>17852</td>\n",
       "      <td>137</td>\n",
       "      <td>129</td>\n",
       "      <td>小行星语林:发表了一篇转载博文《[转载]作家静渊:血淋淋的死亡事件揭穿了转基因不用农药的弥天...</td>\n",
       "      <td>NaN</td>\n",
       "      <td>...</td>\n",
       "      <td>0</td>\n",
       "      <td>01月01日 23:52</td>\n",
       "      <td>新浪博客</td>\n",
       "      <td>0</td>\n",
       "      <td>NaN</td>\n",
       "      <td>NaN</td>\n",
       "      <td>NaN</td>\n",
       "      <td>NaN</td>\n",
       "      <td>NaN</td>\n",
       "      <td>&lt;div class=\"c\" id=\"M_FCp5YgHkP\"&gt;&lt;div&gt;&lt;a class=...</td>\n",
       "    </tr>\n",
       "    <tr>\n",
       "      <th>4</th>\n",
       "      <td>M_FCp5QfVls</td>\n",
       "      <td>https://weibo.cn/u/5545139597</td>\n",
       "      <td>秦岭山如画</td>\n",
       "      <td>男</td>\n",
       "      <td>澳门</td>\n",
       "      <td>8077</td>\n",
       "      <td>359</td>\n",
       "      <td>1151</td>\n",
       "      <td>秦岭山如画?转发了?情迷意恋?的微博:袁隆平眼中的转基因 情迷意恋的秒拍视频 ??赞[55]...</td>\n",
       "      <td>转发理由:外国资本利益集团看家护院的打手，美国人正眼都不看它们一眼的[嘻嘻][握手]//@毛...</td>\n",
       "      <td>...</td>\n",
       "      <td>0</td>\n",
       "      <td>01月01日 23:51</td>\n",
       "      <td>金立大金钢2 全面屏</td>\n",
       "      <td>1</td>\n",
       "      <td>情迷意恋</td>\n",
       "      <td>袁隆平眼中的转基因 情迷意恋的秒拍视频</td>\n",
       "      <td>1337.0</td>\n",
       "      <td>638.0</td>\n",
       "      <td>55.0</td>\n",
       "      <td>&lt;div class=\"c\" id=\"M_FCp5QfVls\"&gt;&lt;div&gt;&lt;a class=...</td>\n",
       "    </tr>\n",
       "  </tbody>\n",
       "</table>\n",
       "<p>5 rows × 24 columns</p>\n",
       "</div>"
      ],
      "text/plain": [
       "      weibo_id                           用户地址        昵称 性别  地域    粉丝数  微博数  \\\n",
       "0  M_FCp8SbTvT  https://weibo.cn/u/3892115560  遇见最最最美的你  男  北京   1200   25   \n",
       "1  M_FCp88bd6m  https://weibo.cn/u/2286141320     姐反转咋的  女  其他  18678  374   \n",
       "2  M_FCp7Q7H9v  https://weibo.cn/u/2177833830     小行星语林  男  河北  17852  137   \n",
       "3  M_FCp5YgHkP  https://weibo.cn/u/2177833830     小行星语林  男  河北  17852  137   \n",
       "4  M_FCp5QfVls  https://weibo.cn/u/5545139597     秦岭山如画  男  澳门   8077  359   \n",
       "\n",
       "    关注数                                               div1  \\\n",
       "0   180  遇见最最最美的你:我免费围观了 @黄章晋ster 的回答，问题价值 200.00 元，快来一...   \n",
       "1  3287  姐反转咋的?转发了?jrry89?的微博:转基因公司正在利用基因编辑技术开发农作物试图规避监...   \n",
       "2   129  小行星语林:发表了博文《【转】科普贴：抗虫转基因作物有多毒？》科普贴：抗虫转基因作物有多毒？...   \n",
       "3   129  小行星语林:发表了一篇转载博文《[转载]作家静渊:血淋淋的死亡事件揭穿了转基因不用农药的弥天...   \n",
       "4  1151  秦岭山如画?转发了?情迷意恋?的微博:袁隆平眼中的转基因 情迷意恋的秒拍视频 ??赞[55]...   \n",
       "\n",
       "                                                div2  \\\n",
       "0                                                NaN   \n",
       "1  转发理由:这种“攻击”是该多晒晒。[嘻嘻]//@多多d617: 晒！//@陈一文顾问 诚请@...   \n",
       "2                                                NaN   \n",
       "3                                                NaN   \n",
       "4  转发理由:外国资本利益集团看家护院的打手，美国人正眼都不看它们一眼的[嘻嘻][握手]//@毛...   \n",
       "\n",
       "                         ...                          点赞数            时间  \\\n",
       "0                        ...                            0  01月01日 23:59   \n",
       "1                        ...                            1  01月01日 23:57   \n",
       "2                        ...                            0  01月01日 23:56   \n",
       "3                        ...                            0  01月01日 23:52   \n",
       "4                        ...                            0  01月01日 23:51   \n",
       "\n",
       "             来源  是否转发     原昵称  \\\n",
       "0  微博 weibo.com     0     NaN   \n",
       "1  微博 weibo.com     1  jrry89   \n",
       "2          新浪博客     0     NaN   \n",
       "3          新浪博客     0     NaN   \n",
       "4    金立大金钢2 全面屏     1    情迷意恋   \n",
       "\n",
       "                                                 原文本    原转发数   原评论数  原点赞数  \\\n",
       "0                                                NaN     NaN    NaN   NaN   \n",
       "1  转基因公司正在利用基因编辑技术开发农作物试图规避监管，去年美国农业部批准了用CRISPR开发...   721.0  325.0  26.0   \n",
       "2                                                NaN     NaN    NaN   NaN   \n",
       "3                                                NaN     NaN    NaN   NaN   \n",
       "4                                袁隆平眼中的转基因 情迷意恋的秒拍视频  1337.0  638.0  55.0   \n",
       "\n",
       "                                             微博原html  \n",
       "0  <div class=\"c\" id=\"M_FCp8SbTvT\"><div><a class=...  \n",
       "1  <div class=\"c\" id=\"M_FCp88bd6m\"><div><a class=...  \n",
       "2  <div class=\"c\" id=\"M_FCp7Q7H9v\"><div><a class=...  \n",
       "3  <div class=\"c\" id=\"M_FCp5YgHkP\"><div><a class=...  \n",
       "4  <div class=\"c\" id=\"M_FCp5QfVls\"><div><a class=...  \n",
       "\n",
       "[5 rows x 24 columns]"
      ]
     },
     "execution_count": 10,
     "metadata": {},
     "output_type": "execute_result"
    }
   ],
   "source": [
    "df.head()"
   ]
  },
  {
   "cell_type": "code",
   "execution_count": 11,
   "metadata": {},
   "outputs": [
    {
     "name": "stdout",
     "output_type": "stream",
     "text": [
      "      weibo_id                           用户地址        昵称 性别  地域    粉丝数  微博数  \\\n",
      "0  M_FCp8SbTvT  https://weibo.cn/u/3892115560  遇见最最最美的你  男  北京   1200   25   \n",
      "1  M_FCp88bd6m  https://weibo.cn/u/2286141320     姐反转咋的  女  其他  18678  374   \n",
      "2  M_FCp7Q7H9v  https://weibo.cn/u/2177833830     小行星语林  男  河北  17852  137   \n",
      "3  M_FCp5YgHkP  https://weibo.cn/u/2177833830     小行星语林  男  河北  17852  137   \n",
      "4  M_FCp5QfVls  https://weibo.cn/u/5545139597     秦岭山如画  男  澳门   8077  359   \n",
      "\n",
      "    关注数                                               div1  \\\n",
      "0   180  遇见最最最美的你:我免费围观了 @黄章晋ster 的回答，问题价值 200.00 元，快来一...   \n",
      "1  3287  姐反转咋的?转发了?jrry89?的微博:转基因公司正在利用基因编辑技术开发农作物试图规避监...   \n",
      "2   129  小行星语林:发表了博文《【转】科普贴：抗虫转基因作物有多毒？》科普贴：抗虫转基因作物有多毒？...   \n",
      "3   129  小行星语林:发表了一篇转载博文《[转载]作家静渊:血淋淋的死亡事件揭穿了转基因不用农药的弥天...   \n",
      "4  1151  秦岭山如画?转发了?情迷意恋?的微博:袁隆平眼中的转基因 情迷意恋的秒拍视频 ??赞[55]...   \n",
      "\n",
      "                                                div2  \\\n",
      "0                                                NaN   \n",
      "1  转发理由:这种“攻击”是该多晒晒。[嘻嘻]//@多多d617: 晒！//@陈一文顾问 诚请@...   \n",
      "2                                                NaN   \n",
      "3                                                NaN   \n",
      "4  转发理由:外国资本利益集团看家护院的打手，美国人正眼都不看它们一眼的[嘻嘻][握手]//@毛...   \n",
      "\n",
      "                         ...                          点赞数            时间  \\\n",
      "0                        ...                            0  01月01日 23:59   \n",
      "1                        ...                            1  01月01日 23:57   \n",
      "2                        ...                            0  01月01日 23:56   \n",
      "3                        ...                            0  01月01日 23:52   \n",
      "4                        ...                            0  01月01日 23:51   \n",
      "\n",
      "             来源  是否转发     原昵称  \\\n",
      "0  微博 weibo.com     0     NaN   \n",
      "1  微博 weibo.com     1  jrry89   \n",
      "2          新浪博客     0     NaN   \n",
      "3          新浪博客     0     NaN   \n",
      "4    金立大金钢2 全面屏     1    情迷意恋   \n",
      "\n",
      "                                                 原文本    原转发数   原评论数  原点赞数  \\\n",
      "0                                                NaN     NaN    NaN   NaN   \n",
      "1  转基因公司正在利用基因编辑技术开发农作物试图规避监管，去年美国农业部批准了用CRISPR开发...   721.0  325.0  26.0   \n",
      "2                                                NaN     NaN    NaN   NaN   \n",
      "3                                                NaN     NaN    NaN   NaN   \n",
      "4                                袁隆平眼中的转基因 情迷意恋的秒拍视频  1337.0  638.0  55.0   \n",
      "\n",
      "                                             微博原html  \n",
      "0  <div class=\"c\" id=\"M_FCp8SbTvT\"><div><a class=...  \n",
      "1  <div class=\"c\" id=\"M_FCp88bd6m\"><div><a class=...  \n",
      "2  <div class=\"c\" id=\"M_FCp7Q7H9v\"><div><a class=...  \n",
      "3  <div class=\"c\" id=\"M_FCp5YgHkP\"><div><a class=...  \n",
      "4  <div class=\"c\" id=\"M_FCp5QfVls\"><div><a class=...  \n",
      "\n",
      "[5 rows x 24 columns]\n"
     ]
    }
   ],
   "source": [
    "#pandas.read_excel\n",
    "df = pd.read_excel(\"GMO dataset.xlsx\")\n",
    "# print (df)\n",
    "print (df.head())"
   ]
  },
  {
   "cell_type": "code",
   "execution_count": 12,
   "metadata": {},
   "outputs": [
    {
     "data": {
      "text/html": [
       "<div>\n",
       "<style scoped>\n",
       "    .dataframe tbody tr th:only-of-type {\n",
       "        vertical-align: middle;\n",
       "    }\n",
       "\n",
       "    .dataframe tbody tr th {\n",
       "        vertical-align: top;\n",
       "    }\n",
       "\n",
       "    .dataframe thead th {\n",
       "        text-align: right;\n",
       "    }\n",
       "</style>\n",
       "<table border=\"1\" class=\"dataframe\">\n",
       "  <thead>\n",
       "    <tr style=\"text-align: right;\">\n",
       "      <th></th>\n",
       "      <th>weibo_id</th>\n",
       "      <th>用户地址</th>\n",
       "      <th>昵称</th>\n",
       "      <th>性别</th>\n",
       "      <th>地域</th>\n",
       "      <th>粉丝数</th>\n",
       "      <th>微博数</th>\n",
       "      <th>关注数</th>\n",
       "      <th>div1</th>\n",
       "      <th>div2</th>\n",
       "      <th>...</th>\n",
       "      <th>点赞数</th>\n",
       "      <th>时间</th>\n",
       "      <th>来源</th>\n",
       "      <th>是否转发</th>\n",
       "      <th>原昵称</th>\n",
       "      <th>原文本</th>\n",
       "      <th>原转发数</th>\n",
       "      <th>原评论数</th>\n",
       "      <th>原点赞数</th>\n",
       "      <th>微博原html</th>\n",
       "    </tr>\n",
       "  </thead>\n",
       "  <tbody>\n",
       "    <tr>\n",
       "      <th>0</th>\n",
       "      <td>M_FCp8SbTvT</td>\n",
       "      <td>https://weibo.cn/u/3892115560</td>\n",
       "      <td>遇见最最最美的你</td>\n",
       "      <td>男</td>\n",
       "      <td>北京</td>\n",
       "      <td>1200</td>\n",
       "      <td>25</td>\n",
       "      <td>180</td>\n",
       "      <td>遇见最最最美的你:我免费围观了 @黄章晋ster 的回答，问题价值 200.00 元，快来一...</td>\n",
       "      <td>NaN</td>\n",
       "      <td>...</td>\n",
       "      <td>0</td>\n",
       "      <td>01月01日 23:59</td>\n",
       "      <td>微博 weibo.com</td>\n",
       "      <td>0</td>\n",
       "      <td>NaN</td>\n",
       "      <td>NaN</td>\n",
       "      <td>NaN</td>\n",
       "      <td>NaN</td>\n",
       "      <td>NaN</td>\n",
       "      <td>&lt;div class=\"c\" id=\"M_FCp8SbTvT\"&gt;&lt;div&gt;&lt;a class=...</td>\n",
       "    </tr>\n",
       "    <tr>\n",
       "      <th>1</th>\n",
       "      <td>M_FCp88bd6m</td>\n",
       "      <td>https://weibo.cn/u/2286141320</td>\n",
       "      <td>姐反转咋的</td>\n",
       "      <td>女</td>\n",
       "      <td>其他</td>\n",
       "      <td>18678</td>\n",
       "      <td>374</td>\n",
       "      <td>3287</td>\n",
       "      <td>姐反转咋的?转发了?jrry89?的微博:转基因公司正在利用基因编辑技术开发农作物试图规避监...</td>\n",
       "      <td>转发理由:这种“攻击”是该多晒晒。[嘻嘻]//@多多d617: 晒！//@陈一文顾问 诚请@...</td>\n",
       "      <td>...</td>\n",
       "      <td>1</td>\n",
       "      <td>01月01日 23:57</td>\n",
       "      <td>微博 weibo.com</td>\n",
       "      <td>1</td>\n",
       "      <td>jrry89</td>\n",
       "      <td>转基因公司正在利用基因编辑技术开发农作物试图规避监管，去年美国农业部批准了用CRISPR开发...</td>\n",
       "      <td>721.0</td>\n",
       "      <td>325.0</td>\n",
       "      <td>26.0</td>\n",
       "      <td>&lt;div class=\"c\" id=\"M_FCp88bd6m\"&gt;&lt;div&gt;&lt;a class=...</td>\n",
       "    </tr>\n",
       "    <tr>\n",
       "      <th>2</th>\n",
       "      <td>M_FCp7Q7H9v</td>\n",
       "      <td>https://weibo.cn/u/2177833830</td>\n",
       "      <td>小行星语林</td>\n",
       "      <td>男</td>\n",
       "      <td>河北</td>\n",
       "      <td>17852</td>\n",
       "      <td>137</td>\n",
       "      <td>129</td>\n",
       "      <td>小行星语林:发表了博文《【转】科普贴：抗虫转基因作物有多毒？》科普贴：抗虫转基因作物有多毒？...</td>\n",
       "      <td>NaN</td>\n",
       "      <td>...</td>\n",
       "      <td>0</td>\n",
       "      <td>01月01日 23:56</td>\n",
       "      <td>新浪博客</td>\n",
       "      <td>0</td>\n",
       "      <td>NaN</td>\n",
       "      <td>NaN</td>\n",
       "      <td>NaN</td>\n",
       "      <td>NaN</td>\n",
       "      <td>NaN</td>\n",
       "      <td>&lt;div class=\"c\" id=\"M_FCp7Q7H9v\"&gt;&lt;div&gt;&lt;a class=...</td>\n",
       "    </tr>\n",
       "    <tr>\n",
       "      <th>3</th>\n",
       "      <td>M_FCp5YgHkP</td>\n",
       "      <td>https://weibo.cn/u/2177833830</td>\n",
       "      <td>小行星语林</td>\n",
       "      <td>男</td>\n",
       "      <td>河北</td>\n",
       "      <td>17852</td>\n",
       "      <td>137</td>\n",
       "      <td>129</td>\n",
       "      <td>小行星语林:发表了一篇转载博文《[转载]作家静渊:血淋淋的死亡事件揭穿了转基因不用农药的弥天...</td>\n",
       "      <td>NaN</td>\n",
       "      <td>...</td>\n",
       "      <td>0</td>\n",
       "      <td>01月01日 23:52</td>\n",
       "      <td>新浪博客</td>\n",
       "      <td>0</td>\n",
       "      <td>NaN</td>\n",
       "      <td>NaN</td>\n",
       "      <td>NaN</td>\n",
       "      <td>NaN</td>\n",
       "      <td>NaN</td>\n",
       "      <td>&lt;div class=\"c\" id=\"M_FCp5YgHkP\"&gt;&lt;div&gt;&lt;a class=...</td>\n",
       "    </tr>\n",
       "    <tr>\n",
       "      <th>4</th>\n",
       "      <td>M_FCp5QfVls</td>\n",
       "      <td>https://weibo.cn/u/5545139597</td>\n",
       "      <td>秦岭山如画</td>\n",
       "      <td>男</td>\n",
       "      <td>澳门</td>\n",
       "      <td>8077</td>\n",
       "      <td>359</td>\n",
       "      <td>1151</td>\n",
       "      <td>秦岭山如画?转发了?情迷意恋?的微博:袁隆平眼中的转基因 情迷意恋的秒拍视频 ??赞[55]...</td>\n",
       "      <td>转发理由:外国资本利益集团看家护院的打手，美国人正眼都不看它们一眼的[嘻嘻][握手]//@毛...</td>\n",
       "      <td>...</td>\n",
       "      <td>0</td>\n",
       "      <td>01月01日 23:51</td>\n",
       "      <td>金立大金钢2 全面屏</td>\n",
       "      <td>1</td>\n",
       "      <td>情迷意恋</td>\n",
       "      <td>袁隆平眼中的转基因 情迷意恋的秒拍视频</td>\n",
       "      <td>1337.0</td>\n",
       "      <td>638.0</td>\n",
       "      <td>55.0</td>\n",
       "      <td>&lt;div class=\"c\" id=\"M_FCp5QfVls\"&gt;&lt;div&gt;&lt;a class=...</td>\n",
       "    </tr>\n",
       "  </tbody>\n",
       "</table>\n",
       "<p>5 rows × 24 columns</p>\n",
       "</div>"
      ],
      "text/plain": [
       "      weibo_id                           用户地址        昵称 性别  地域    粉丝数  微博数  \\\n",
       "0  M_FCp8SbTvT  https://weibo.cn/u/3892115560  遇见最最最美的你  男  北京   1200   25   \n",
       "1  M_FCp88bd6m  https://weibo.cn/u/2286141320     姐反转咋的  女  其他  18678  374   \n",
       "2  M_FCp7Q7H9v  https://weibo.cn/u/2177833830     小行星语林  男  河北  17852  137   \n",
       "3  M_FCp5YgHkP  https://weibo.cn/u/2177833830     小行星语林  男  河北  17852  137   \n",
       "4  M_FCp5QfVls  https://weibo.cn/u/5545139597     秦岭山如画  男  澳门   8077  359   \n",
       "\n",
       "    关注数                                               div1  \\\n",
       "0   180  遇见最最最美的你:我免费围观了 @黄章晋ster 的回答，问题价值 200.00 元，快来一...   \n",
       "1  3287  姐反转咋的?转发了?jrry89?的微博:转基因公司正在利用基因编辑技术开发农作物试图规避监...   \n",
       "2   129  小行星语林:发表了博文《【转】科普贴：抗虫转基因作物有多毒？》科普贴：抗虫转基因作物有多毒？...   \n",
       "3   129  小行星语林:发表了一篇转载博文《[转载]作家静渊:血淋淋的死亡事件揭穿了转基因不用农药的弥天...   \n",
       "4  1151  秦岭山如画?转发了?情迷意恋?的微博:袁隆平眼中的转基因 情迷意恋的秒拍视频 ??赞[55]...   \n",
       "\n",
       "                                                div2  \\\n",
       "0                                                NaN   \n",
       "1  转发理由:这种“攻击”是该多晒晒。[嘻嘻]//@多多d617: 晒！//@陈一文顾问 诚请@...   \n",
       "2                                                NaN   \n",
       "3                                                NaN   \n",
       "4  转发理由:外国资本利益集团看家护院的打手，美国人正眼都不看它们一眼的[嘻嘻][握手]//@毛...   \n",
       "\n",
       "                         ...                          点赞数            时间  \\\n",
       "0                        ...                            0  01月01日 23:59   \n",
       "1                        ...                            1  01月01日 23:57   \n",
       "2                        ...                            0  01月01日 23:56   \n",
       "3                        ...                            0  01月01日 23:52   \n",
       "4                        ...                            0  01月01日 23:51   \n",
       "\n",
       "             来源  是否转发     原昵称  \\\n",
       "0  微博 weibo.com     0     NaN   \n",
       "1  微博 weibo.com     1  jrry89   \n",
       "2          新浪博客     0     NaN   \n",
       "3          新浪博客     0     NaN   \n",
       "4    金立大金钢2 全面屏     1    情迷意恋   \n",
       "\n",
       "                                                 原文本    原转发数   原评论数  原点赞数  \\\n",
       "0                                                NaN     NaN    NaN   NaN   \n",
       "1  转基因公司正在利用基因编辑技术开发农作物试图规避监管，去年美国农业部批准了用CRISPR开发...   721.0  325.0  26.0   \n",
       "2                                                NaN     NaN    NaN   NaN   \n",
       "3                                                NaN     NaN    NaN   NaN   \n",
       "4                                袁隆平眼中的转基因 情迷意恋的秒拍视频  1337.0  638.0  55.0   \n",
       "\n",
       "                                             微博原html  \n",
       "0  <div class=\"c\" id=\"M_FCp8SbTvT\"><div><a class=...  \n",
       "1  <div class=\"c\" id=\"M_FCp88bd6m\"><div><a class=...  \n",
       "2  <div class=\"c\" id=\"M_FCp7Q7H9v\"><div><a class=...  \n",
       "3  <div class=\"c\" id=\"M_FCp5YgHkP\"><div><a class=...  \n",
       "4  <div class=\"c\" id=\"M_FCp5QfVls\"><div><a class=...  \n",
       "\n",
       "[5 rows x 24 columns]"
      ]
     },
     "execution_count": 12,
     "metadata": {},
     "output_type": "execute_result"
    }
   ],
   "source": [
    "df.head()"
   ]
  },
  {
   "cell_type": "code",
   "execution_count": 13,
   "metadata": {},
   "outputs": [],
   "source": [
    "#DataFrame.to_csv\n",
    "df.to_csv(\"New.csv\")"
   ]
  },
  {
   "cell_type": "code",
   "execution_count": 14,
   "metadata": {},
   "outputs": [],
   "source": [
    "#DataFrame.to_excel\n",
    "df.to_excel(\"New.xls\")"
   ]
  },
  {
   "cell_type": "code",
   "execution_count": 15,
   "metadata": {},
   "outputs": [
    {
     "name": "stdout",
     "output_type": "stream",
     "text": [
      "    state  year  pop\n",
      "0    Ohio  2000  1.5\n",
      "1    Ohio  2001  1.7\n",
      "2    Ohio  2002  3.6\n",
      "3  Nevada  2001  2.4\n",
      "4  Nevada  2002  2.9\n",
      "     year   pop  state\n",
      "0    Ohio  2000    1.5\n",
      "1    Ohio  2001    1.7\n",
      "2    Ohio  2002    3.6\n",
      "3  Nevada  2001    2.4\n",
      "4  Nevada  2002    2.9\n"
     ]
    }
   ],
   "source": [
    "#Create a DataFrame from a dictionary of lists and specify the column order\n",
    "data = {'state': ['Ohio', 'Ohio', 'Ohio', 'Nevada', 'Nevada'],\n",
    "'year': [2000, 2001, 2002, 2001, 2002],\n",
    "'pop': [1.5, 1.7, 3.6, 2.4, 2.9]}\n",
    "df = pd.DataFrame(data)\n",
    "print (df)\n",
    "df.columns =  [\"year\", \"pop\", \"state\"]\n",
    "print (df)"
   ]
  },
  {
   "cell_type": "code",
   "execution_count": 16,
   "metadata": {},
   "outputs": [
    {
     "name": "stdout",
     "output_type": "stream",
     "text": [
      "     year   pop  state\n",
      "0    Ohio  2000    1.5\n",
      "1    Ohio  2001    1.7\n",
      "2    Ohio  2002    3.6\n",
      "3  Nevada  2001    2.4\n",
      "4  Nevada  2002    2.9\n",
      "         year   pop  state\n",
      "one      Ohio  2000    1.5\n",
      "two      Ohio  2001    1.7\n",
      "three    Ohio  2002    3.6\n",
      "four   Nevada  2001    2.4\n",
      "five   Nevada  2002    2.9\n"
     ]
    }
   ],
   "source": [
    "#Create a DataFrame from a dictionary of lists and specify the row index\n",
    "print (df)\n",
    "df.index =  [\"one\", \"two\", \"three\", \"four\",\"five\"]\n",
    "print (df)"
   ]
  },
  {
   "cell_type": "code",
   "execution_count": 18,
   "metadata": {},
   "outputs": [
    {
     "name": "stdout",
     "output_type": "stream",
     "text": [
      "(5, 3)\n"
     ]
    }
   ],
   "source": [
    "#Read the shape of a DataFrame: (num of rows, num of columns)\n",
    "print (df.shape)"
   ]
  },
  {
   "cell_type": "code",
   "execution_count": 19,
   "metadata": {},
   "outputs": [
    {
     "name": "stdout",
     "output_type": "stream",
     "text": [
      "Index(['year', 'pop', 'state'], dtype='object')\n"
     ]
    }
   ],
   "source": [
    "#Read the variables (column titles)\n",
    "print (df.columns)"
   ]
  },
  {
   "cell_type": "code",
   "execution_count": 20,
   "metadata": {},
   "outputs": [
    {
     "name": "stdout",
     "output_type": "stream",
     "text": [
      "one      1.5\n",
      "two      1.7\n",
      "three    3.6\n",
      "four     2.4\n",
      "five     2.9\n",
      "Name: state, dtype: float64\n",
      "one      1.5\n",
      "two      1.7\n",
      "three    3.6\n",
      "four     2.4\n",
      "five     2.9\n",
      "Name: state, dtype: float64\n"
     ]
    }
   ],
   "source": [
    "#Read a column of a DataFrame\n",
    "Column1 = df[\"state\"]\n",
    "Column2 = df.state\n",
    "print (Column1)\n",
    "print (Column2)"
   ]
  },
  {
   "cell_type": "code",
   "execution_count": 21,
   "metadata": {},
   "outputs": [
    {
     "name": "stdout",
     "output_type": "stream",
     "text": [
      "         year   pop  state\n",
      "one      Ohio  2000    1.5\n",
      "two      Ohio  2001    1.7\n",
      "three    Ohio  2002    3.6\n",
      "four   Nevada  2001    2.4\n",
      "five   Nevada  2002    2.9\n",
      "         year   pop  state\n",
      "one      Ohio  2000      0\n",
      "two      Ohio  2001      1\n",
      "three    Ohio  2002      2\n",
      "four   Nevada  2001      3\n",
      "five   Nevada  2002      4\n",
      "         year   pop  state\n",
      "one      Ohio  2000    100\n",
      "two      Ohio  2001    100\n",
      "three    Ohio  2002    100\n",
      "four   Nevada  2001    100\n",
      "five   Nevada  2002    100\n"
     ]
    }
   ],
   "source": [
    "# Assign a column with a list or a value\n",
    "print(df)\n",
    "df[\"state\"] = [0,1,2,3,4]\n",
    "print(df)\n",
    "df[\"state\"] = 100\n",
    "print(df)"
   ]
  },
  {
   "cell_type": "code",
   "execution_count": 22,
   "metadata": {},
   "outputs": [
    {
     "name": "stdout",
     "output_type": "stream",
     "text": [
      "Index(['one', 'two', 'three', 'four', 'five'], dtype='object')\n"
     ]
    }
   ],
   "source": [
    "#Read the index (row titles)\n",
    "print (df.index)"
   ]
  },
  {
   "cell_type": "code",
   "execution_count": 23,
   "metadata": {},
   "outputs": [
    {
     "name": "stdout",
     "output_type": "stream",
     "text": [
      "year     Ohio\n",
      "pop      2000\n",
      "state     100\n",
      "Name: one, dtype: object\n",
      "year     Ohio\n",
      "pop      2000\n",
      "state     100\n",
      "Name: one, dtype: object\n"
     ]
    }
   ],
   "source": [
    "#Read a row of a DataFrame\n",
    "Row1 = df.loc[\"one\"]\n",
    "print (Row1)\n",
    "Row2 = df.iloc[0]\n",
    "print (Row2)"
   ]
  },
  {
   "cell_type": "code",
   "execution_count": 24,
   "metadata": {},
   "outputs": [
    {
     "name": "stdout",
     "output_type": "stream",
     "text": [
      "         year   pop  state\n",
      "one      Ohio  2000    100\n",
      "two      Ohio  2001    100\n",
      "three    Ohio  2002    100\n",
      "four   Nevada  2001    100\n",
      "five   Nevada  2002    100\n",
      "         year   pop  state\n",
      "one         0     1      2\n",
      "two      Ohio  2001    100\n",
      "three    Ohio  2002    100\n",
      "four   Nevada  2001    100\n",
      "five   Nevada  2002    100\n",
      "         year   pop  state\n",
      "one       100   100    100\n",
      "two      Ohio  2001    100\n",
      "three    Ohio  2002    100\n",
      "four   Nevada  2001    100\n",
      "five   Nevada  2002    100\n"
     ]
    }
   ],
   "source": [
    "#Assign a row with a list or a value\n",
    "print (df)\n",
    "df.loc[\"one\"] = [0,1,2]\n",
    "print(df)\n",
    "df.loc[\"one\"] = 100\n",
    "print(df)"
   ]
  },
  {
   "cell_type": "code",
   "execution_count": 26,
   "metadata": {},
   "outputs": [
    {
     "name": "stdout",
     "output_type": "stream",
     "text": [
      "       one   two three    four    five\n",
      "year   100  Ohio  Ohio  Nevada  Nevada\n",
      "pop    100  2001  2002    2001    2002\n",
      "state  100   100   100     100     100\n"
     ]
    }
   ],
   "source": [
    "# Transpose a DataFrame\n",
    "print (df.T)"
   ]
  },
  {
   "cell_type": "markdown",
   "metadata": {},
   "source": [
    "Python slice:<br />\n",
    "https://www.cnblogs.com/cedrelaliu/p/6004352.html"
   ]
  },
  {
   "cell_type": "code",
   "execution_count": 27,
   "metadata": {},
   "outputs": [
    {
     "name": "stdout",
     "output_type": "stream",
     "text": [
      "         year   pop  state\n",
      "one       100   100    100\n",
      "two      Ohio  2001    100\n",
      "three    Ohio  2002    100\n",
      "four   Nevada  2001    100\n",
      "five   Nevada  2002    100\n",
      "\n",
      "year    100\n",
      "pop     100\n",
      "Name: one, dtype: object\n",
      "\n"
     ]
    }
   ],
   "source": [
    "print(df)\n",
    "print()\n",
    "# df.loc[row_name, column_name]\n",
    "print(df.loc[\"one\",\"year\":\"pop\"])\n",
    "print()"
   ]
  },
  {
   "cell_type": "code",
   "execution_count": 28,
   "metadata": {},
   "outputs": [
    {
     "name": "stdout",
     "output_type": "stream",
     "text": [
      "         year   pop\n",
      "one       100   100\n",
      "two      Ohio  2001\n",
      "three    Ohio  2002\n",
      "four   Nevada  2001\n",
      "five   Nevada  2002\n"
     ]
    }
   ],
   "source": [
    "# Select columns directly\n",
    "print(df.loc[:,\"year\":\"pop\"])"
   ]
  },
  {
   "cell_type": "code",
   "execution_count": 29,
   "metadata": {},
   "outputs": [
    {
     "name": "stdout",
     "output_type": "stream",
     "text": [
      "         year   pop  state\n",
      "one       100   100    100\n",
      "two      Ohio  2001    100\n",
      "three    Ohio  2002    100\n",
      "four   Nevada  2001    100\n",
      "five   Nevada  2002    100\n",
      "\n",
      "       year   pop  state\n",
      "one     100   100    100\n",
      "three  Ohio  2002    100\n",
      "\n",
      "       year   pop  state\n",
      "two    Ohio  2001    100\n",
      "three  Ohio  2002    100\n",
      "\n"
     ]
    }
   ],
   "source": [
    "# Select rows directly\n",
    "print(df)\n",
    "print ()\n",
    "print(df.loc[[\"one\",\"three\"],:])\n",
    "print ()"
   ]
  },
  {
   "cell_type": "code",
   "execution_count": 30,
   "metadata": {},
   "outputs": [
    {
     "name": "stdout",
     "output_type": "stream",
     "text": [
      "         year   pop  state\n",
      "one       100   100    100\n",
      "two      Ohio  2001    100\n",
      "three    Ohio  2002    100\n",
      "four   Nevada  2001    100\n",
      "five   Nevada  2002    100\n",
      "\n",
      "        year   pop  state\n",
      "two     Ohio  2001    100\n",
      "four  Nevada  2001    100\n"
     ]
    }
   ],
   "source": [
    "# Select rows by specifying a value of a column\n",
    "print(df)\n",
    "print()\n",
    "row_conditions = df.loc[:, \"pop\"] == 2001\n",
    "print (df.loc[row_conditions, :])"
   ]
  },
  {
   "cell_type": "code",
   "execution_count": 31,
   "metadata": {},
   "outputs": [
    {
     "name": "stdout",
     "output_type": "stream",
     "text": [
      "         year   pop  state\n",
      "one       100   100    100\n",
      "two      Ohio  2001    100\n",
      "three    Ohio  2002    100\n",
      "four   Nevada  2001    100\n",
      "five   Nevada  2002    100\n",
      "\n",
      "         year   pop  state\n",
      "two      Ohio  2001    100\n",
      "three    Ohio  2002    100\n",
      "four   Nevada  2001    100\n",
      "five   Nevada  2002    100\n"
     ]
    }
   ],
   "source": [
    "# Select rows by specifying a value interval of a column\n",
    "print(df)\n",
    "print ()\n",
    "row_conditions = df.loc[:, \"pop\"] >= 2001\n",
    "print (df.loc[row_conditions, :])"
   ]
  },
  {
   "cell_type": "markdown",
   "metadata": {},
   "source": [
    "<p>**3. Procedures:**<p>"
   ]
  },
  {
   "cell_type": "code",
   "execution_count": 33,
   "metadata": {},
   "outputs": [
    {
     "name": "stdout",
     "output_type": "stream",
     "text": [
      "1\n",
      "2\n",
      "3\n"
     ]
    }
   ],
   "source": [
    "#Sequential\n",
    "data = {'state': ['Ohio', 'Ohio', 'Ohio', 'Nevada', 'Nevada'],\n",
    "'year': [2000, 2001, 2002, 2001, 2002],\n",
    "'pop': [1.5, 1.7, 3.6, 2.4, 2.9]}\n",
    "#1 \n",
    "df = pd.DataFrame(data)\n",
    "print (\"1\")\n",
    "#2 \n",
    "df = pd.DataFrame(data).loc[0:3]\n",
    "print (\"2\")\n",
    "#3\n",
    "df = pd.DataFrame(data).loc[0:1]\n",
    "print (\"3\")"
   ]
  },
  {
   "cell_type": "code",
   "execution_count": 34,
   "metadata": {},
   "outputs": [
    {
     "name": "stdout",
     "output_type": "stream",
     "text": [
      "(5, 3)\n",
      "1\n",
      "3\n"
     ]
    }
   ],
   "source": [
    "#Conditional, If-else\n",
    "data = {'state': ['Ohio', 'Ohio', 'Ohio', 'Nevada', 'Nevada'],\n",
    "'year': [2000, 2001, 2002, 2001, 2002],\n",
    "'pop': [1.5, 1.7, 3.6, 2.4, 2.9]}\n",
    "#1 \n",
    "df = pd.DataFrame(data)\n",
    "print (df.shape)\n",
    "print (\"1\")\n",
    "if df.shape[0] < 4:\n",
    "#2    \n",
    "    df = pd.DataFrame(data).loc[0:3]\n",
    "    print (\"2\")\n",
    "else:\n",
    "#3\n",
    "    df = pd.DataFrame(data).loc[0:1]\n",
    "    print (\"3\")"
   ]
  },
  {
   "cell_type": "code",
   "execution_count": 35,
   "metadata": {},
   "outputs": [
    {
     "name": "stdout",
     "output_type": "stream",
     "text": [
      "    state  year  pop\n",
      "0    Ohio  2000  1.5\n",
      "1    Ohio  2001  1.7\n",
      "2    Ohio  2002  3.6\n",
      "3  Nevada  2001  2.4\n",
      "4  Nevada  2002  2.9\n",
      "1\n",
      "Ohio\n",
      "Ohio\n",
      "Ohio\n",
      "Nevada\n",
      "Nevada\n"
     ]
    }
   ],
   "source": [
    "#iterative, for\n",
    "data = {'state': ['Ohio', 'Ohio', 'Ohio', 'Nevada', 'Nevada'],\n",
    "'year': [2000, 2001, 2002, 2001, 2002],\n",
    "'pop': [1.5, 1.7, 3.6, 2.4, 2.9]}\n",
    "#1\n",
    "df = pd.DataFrame(data)\n",
    "print (df)\n",
    "print (\"1\")\n",
    "\n",
    "for item in df[\"state\"]:\n",
    "#2,3,4,5,……\n",
    "    print (item)\n",
    "    print \n",
    "    "
   ]
  },
  {
   "cell_type": "code",
   "execution_count": 36,
   "metadata": {},
   "outputs": [
    {
     "data": {
      "text/html": [
       "<div>\n",
       "<style scoped>\n",
       "    .dataframe tbody tr th:only-of-type {\n",
       "        vertical-align: middle;\n",
       "    }\n",
       "\n",
       "    .dataframe tbody tr th {\n",
       "        vertical-align: top;\n",
       "    }\n",
       "\n",
       "    .dataframe thead th {\n",
       "        text-align: right;\n",
       "    }\n",
       "</style>\n",
       "<table border=\"1\" class=\"dataframe\">\n",
       "  <thead>\n",
       "    <tr style=\"text-align: right;\">\n",
       "      <th></th>\n",
       "      <th>state</th>\n",
       "      <th>year</th>\n",
       "      <th>pop</th>\n",
       "    </tr>\n",
       "  </thead>\n",
       "  <tbody>\n",
       "    <tr>\n",
       "      <th>0</th>\n",
       "      <td>Ohio</td>\n",
       "      <td>2000</td>\n",
       "      <td>1.5</td>\n",
       "    </tr>\n",
       "    <tr>\n",
       "      <th>1</th>\n",
       "      <td>Ohio</td>\n",
       "      <td>2001</td>\n",
       "      <td>1.7</td>\n",
       "    </tr>\n",
       "    <tr>\n",
       "      <th>2</th>\n",
       "      <td>Ohio</td>\n",
       "      <td>2002</td>\n",
       "      <td>3.6</td>\n",
       "    </tr>\n",
       "    <tr>\n",
       "      <th>3</th>\n",
       "      <td>Nevada</td>\n",
       "      <td>2001</td>\n",
       "      <td>2.4</td>\n",
       "    </tr>\n",
       "    <tr>\n",
       "      <th>4</th>\n",
       "      <td>Nevada</td>\n",
       "      <td>2002</td>\n",
       "      <td>2.9</td>\n",
       "    </tr>\n",
       "  </tbody>\n",
       "</table>\n",
       "</div>"
      ],
      "text/plain": [
       "    state  year  pop\n",
       "0    Ohio  2000  1.5\n",
       "1    Ohio  2001  1.7\n",
       "2    Ohio  2002  3.6\n",
       "3  Nevada  2001  2.4\n",
       "4  Nevada  2002  2.9"
      ]
     },
     "execution_count": 36,
     "metadata": {},
     "output_type": "execute_result"
    }
   ],
   "source": [
    "df"
   ]
  },
  {
   "cell_type": "code",
   "execution_count": 38,
   "metadata": {},
   "outputs": [
    {
     "name": "stdout",
     "output_type": "stream",
     "text": [
      "0\n",
      "1\n",
      "2\n",
      "3\n",
      "4\n"
     ]
    }
   ],
   "source": [
    "for i in df.index:\n",
    "    print(i)"
   ]
  },
  {
   "cell_type": "code",
   "execution_count": 41,
   "metadata": {},
   "outputs": [
    {
     "name": "stdout",
     "output_type": "stream",
     "text": [
      "state    Ohio\n",
      "year     2000\n",
      "pop       1.5\n",
      "Name: 0, dtype: object\n",
      "state    Ohio\n",
      "year     2001\n",
      "pop       1.7\n",
      "Name: 1, dtype: object\n",
      "state    Ohio\n",
      "year     2002\n",
      "pop       3.6\n",
      "Name: 2, dtype: object\n",
      "state    Nevada\n",
      "year       2001\n",
      "pop         2.4\n",
      "Name: 3, dtype: object\n",
      "state    Nevada\n",
      "year       2002\n",
      "pop         2.9\n",
      "Name: 4, dtype: object\n"
     ]
    }
   ],
   "source": [
    "for i in df.index:\n",
    "    print(df.loc[i,:])"
   ]
  },
  {
   "cell_type": "code",
   "execution_count": 42,
   "metadata": {},
   "outputs": [
    {
     "name": "stdout",
     "output_type": "stream",
     "text": [
      "state    Ohio\n",
      "year     2000\n",
      "pop       1.5\n",
      "Name: 0, dtype: object\n",
      "state    Ohio\n",
      "year     2001\n",
      "pop       1.7\n",
      "Name: 1, dtype: object\n",
      "state    Ohio\n",
      "year     2002\n",
      "pop       3.6\n",
      "Name: 2, dtype: object\n",
      "state    Nevada\n",
      "year       2001\n",
      "pop         2.4\n",
      "Name: 3, dtype: object\n",
      "state    Nevada\n",
      "year       2002\n",
      "pop         2.9\n",
      "Name: 4, dtype: object\n"
     ]
    }
   ],
   "source": [
    "for i in df.index:\n",
    "    print(df.iloc[i,:])"
   ]
  },
  {
   "cell_type": "code",
   "execution_count": 45,
   "metadata": {},
   "outputs": [
    {
     "name": "stdout",
     "output_type": "stream",
     "text": [
      "      weibo_id                           用户地址        昵称 性别   地域    粉丝数  微博数  \\\n",
      "0  M_FCp8SbTvT  https://weibo.cn/u/3892115560  遇见最最最美的你  男   北京   1200   25   \n",
      "1  M_FCp88bd6m  https://weibo.cn/u/2286141320     姐反转咋的  女   其他  18678  374   \n",
      "2  M_FCp7Q7H9v  https://weibo.cn/u/2177833830     小行星语林  男   河北  17852  137   \n",
      "3  M_FCp5YgHkP  https://weibo.cn/u/2177833830     小行星语林  男   河北  17852  137   \n",
      "4  M_FCp5QfVls  https://weibo.cn/u/5545139597     秦岭山如画  男   澳门   8077  359   \n",
      "5  M_FCp343dCJ  https://weibo.cn/u/2177833830     小行星语林  男   河北  17852  137   \n",
      "6  M_FCp1TBQhb         https://weibo.cn/flust      五界之中  男  内蒙古    810  440   \n",
      "7  M_FCoWd6XfQ  https://weibo.cn/u/2753568401   删不掉的沉醉0  男   贵州   2233  681   \n",
      "8  M_FCoVdEah5  https://weibo.cn/u/5545139597     秦岭山如画  男   澳门   8077  359   \n",
      "9  M_FCoUY22MB  https://weibo.cn/u/3108402597       Q陈秀  男   新疆   2979  734   \n",
      "\n",
      "    关注数                                               div1  \\\n",
      "0   180  遇见最最最美的你:我免费围观了 @黄章晋ster 的回答，问题价值 200.00 元，快来一...   \n",
      "1  3287  姐反转咋的?转发了?jrry89?的微博:转基因公司正在利用基因编辑技术开发农作物试图规避监...   \n",
      "2   129  小行星语林:发表了博文《【转】科普贴：抗虫转基因作物有多毒？》科普贴：抗虫转基因作物有多毒？...   \n",
      "3   129  小行星语林:发表了一篇转载博文《[转载]作家静渊:血淋淋的死亡事件揭穿了转基因不用农药的弥天...   \n",
      "4  1151  秦岭山如画?转发了?情迷意恋?的微博:袁隆平眼中的转基因 情迷意恋的秒拍视频 ??赞[55]...   \n",
      "5   129  小行星语林:陈增煜：致《中国青年报》社有关人员 转基因根本没有问题吗 - 网友杂谈 - 红歌...   \n",
      "6   347  五界之中:我免费围观了 @松鼠云无心 的回答，问题价值 99.00 元，快来一起免费围观~ ...   \n",
      "7   266  删不掉的沉醉0:”、猫胡疑的回头望了望老虎:“咋有这么强壮的猫。转基因的吧 ??赞[0]?转...   \n",
      "8  1151  秦岭山如画?转发了?情迷意恋?的微博:袁隆平眼中的转基因 情迷意恋的秒拍视频 ??赞[55]...   \n",
      "9   261  Q陈秀:转基因的吧：猫胡疑的回头望了望老虎:“咋有这么强壮的猫：”；?可能我只是你生命里的一...   \n",
      "\n",
      "                                                div2  \\\n",
      "0                                                NaN   \n",
      "1  转发理由:这种“攻击”是该多晒晒。[嘻嘻]//@多多d617: 晒！//@陈一文顾问 诚请@...   \n",
      "2                                                NaN   \n",
      "3                                                NaN   \n",
      "4  转发理由:外国资本利益集团看家护院的打手，美国人正眼都不看它们一眼的[嘻嘻][握手]//@毛...   \n",
      "5                                                NaN   \n",
      "6                                                NaN   \n",
      "7                                                NaN   \n",
      "8  转发理由:都是些为利益不惜用13亿人当小白鼠搞试验的牺牲品。//@毛祖培Q:他们的手下，都是...   \n",
      "9                                                NaN   \n",
      "\n",
      "                         ...                          点赞数            时间  \\\n",
      "0                        ...                            0  01月01日 23:59   \n",
      "1                        ...                            1  01月01日 23:57   \n",
      "2                        ...                            0  01月01日 23:56   \n",
      "3                        ...                            0  01月01日 23:52   \n",
      "4                        ...                            0  01月01日 23:51   \n",
      "5                        ...                            0  01月01日 23:45   \n",
      "6                        ...                            0  01月01日 23:42   \n",
      "7                        ...                            0  01月01日 23:28   \n",
      "8                        ...                            0  01月01日 23:25   \n",
      "9                        ...                            0  01月01日 23:25   \n",
      "\n",
      "             来源  是否转发     原昵称  \\\n",
      "0  微博 weibo.com     0     NaN   \n",
      "1  微博 weibo.com     1  jrry89   \n",
      "2          新浪博客     0     NaN   \n",
      "3          新浪博客     0     NaN   \n",
      "4    金立大金钢2 全面屏     1    情迷意恋   \n",
      "5          百度分享     0     NaN   \n",
      "6  微博 weibo.com     0     NaN   \n",
      "7     iPhone客户端     0     NaN   \n",
      "8    金立大金钢2 全面屏     1    情迷意恋   \n",
      "9     iPhone客户端     0     NaN   \n",
      "\n",
      "                                                 原文本    原转发数   原评论数  原点赞数  \\\n",
      "0                                                NaN     NaN    NaN   NaN   \n",
      "1  转基因公司正在利用基因编辑技术开发农作物试图规避监管，去年美国农业部批准了用CRISPR开发...   721.0  325.0  26.0   \n",
      "2                                                NaN     NaN    NaN   NaN   \n",
      "3                                                NaN     NaN    NaN   NaN   \n",
      "4                                袁隆平眼中的转基因 情迷意恋的秒拍视频  1337.0  638.0  55.0   \n",
      "5                                                NaN     NaN    NaN   NaN   \n",
      "6                                                NaN     NaN    NaN   NaN   \n",
      "7                                                NaN     NaN    NaN   NaN   \n",
      "8                                袁隆平眼中的转基因 情迷意恋的秒拍视频  1337.0  638.0  55.0   \n",
      "9                                                NaN     NaN    NaN   NaN   \n",
      "\n",
      "                                             微博原html  \n",
      "0  <div class=\"c\" id=\"M_FCp8SbTvT\"><div><a class=...  \n",
      "1  <div class=\"c\" id=\"M_FCp88bd6m\"><div><a class=...  \n",
      "2  <div class=\"c\" id=\"M_FCp7Q7H9v\"><div><a class=...  \n",
      "3  <div class=\"c\" id=\"M_FCp5YgHkP\"><div><a class=...  \n",
      "4  <div class=\"c\" id=\"M_FCp5QfVls\"><div><a class=...  \n",
      "5  <div class=\"c\" id=\"M_FCp343dCJ\"><div><a class=...  \n",
      "6  <div class=\"c\" id=\"M_FCp1TBQhb\"><div><a class=...  \n",
      "7  <div class=\"c\" id=\"M_FCoWd6XfQ\"><div><a class=...  \n",
      "8  <div class=\"c\" id=\"M_FCoVdEah5\"><div><a class=...  \n",
      "9  <div class=\"c\" id=\"M_FCoUY22MB\"><div><a class=...  \n",
      "\n",
      "[10 rows x 24 columns]\n"
     ]
    }
   ],
   "source": [
    "df = pd.read_csv(\"GMO dataset.csv\")\n",
    "print (df)"
   ]
  },
  {
   "cell_type": "code",
   "execution_count": 51,
   "metadata": {},
   "outputs": [
    {
     "name": "stdout",
     "output_type": "stream",
     "text": [
      "1200\n",
      "810\n"
     ]
    }
   ],
   "source": [
    "for item in df[\"粉丝数\"]:\n",
    "    if item < 2000 and item > 500:\n",
    "        print (item)"
   ]
  },
  {
   "cell_type": "code",
   "execution_count": null,
   "metadata": {},
   "outputs": [],
   "source": []
  }
 ],
 "metadata": {
  "kernelspec": {
   "display_name": "Python 3",
   "language": "python",
   "name": "python3"
  },
  "language_info": {
   "codemirror_mode": {
    "name": "ipython",
    "version": 3
   },
   "file_extension": ".py",
   "mimetype": "text/x-python",
   "name": "python",
   "nbconvert_exporter": "python",
   "pygments_lexer": "ipython3",
   "version": "3.7.0"
  }
 },
 "nbformat": 4,
 "nbformat_minor": 2
}
