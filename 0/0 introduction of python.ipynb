{
 "cells": [
  {
   "cell_type": "markdown",
   "metadata": {},
   "source": [
    "# Python Programming 1\n"
   ]
  },
  {
   "cell_type": "markdown",
   "metadata": {},
   "source": [
    "0.Anaconda Installation"
   ]
  },
  {
   "cell_type": "markdown",
   "metadata": {},
   "source": [
    "\n",
    "https://www.anaconda.com/download/\n",
    "--- choose Python 3.x(Many libraries such as pandas will no longer support Python 2 in 2 or 3 years)\n"
   ]
  },
  {
   "cell_type": "markdown",
   "metadata": {},
   "source": [
    "1.constants"
   ]
  },
  {
   "cell_type": "markdown",
   "metadata": {},
   "source": [
    "a.Number:int"
   ]
  },
  {
   "cell_type": "markdown",
   "metadata": {},
   "source": [
    "Int (Integer): no decimals"
   ]
  },
  {
   "cell_type": "code",
   "execution_count": 2,
   "metadata": {},
   "outputs": [
    {
     "data": {
      "text/plain": [
       "3"
      ]
     },
     "execution_count": 2,
     "metadata": {},
     "output_type": "execute_result"
    }
   ],
   "source": [
    "3"
   ]
  },
  {
   "cell_type": "markdown",
   "metadata": {},
   "source": [
    "type()--- to verify the type of object in Python "
   ]
  },
  {
   "cell_type": "code",
   "execution_count": 3,
   "metadata": {},
   "outputs": [
    {
     "data": {
      "text/plain": [
       "int"
      ]
     },
     "execution_count": 3,
     "metadata": {},
     "output_type": "execute_result"
    }
   ],
   "source": [
    "type(3)"
   ]
  },
  {
   "cell_type": "markdown",
   "metadata": {},
   "source": [
    "b.Number:float"
   ]
  },
  {
   "cell_type": "markdown",
   "metadata": {},
   "source": [
    "Float: has decimals"
   ]
  },
  {
   "cell_type": "code",
   "execution_count": 4,
   "metadata": {},
   "outputs": [
    {
     "data": {
      "text/plain": [
       "3.5"
      ]
     },
     "execution_count": 4,
     "metadata": {},
     "output_type": "execute_result"
    }
   ],
   "source": [
    "3.5"
   ]
  },
  {
   "cell_type": "code",
   "execution_count": 5,
   "metadata": {},
   "outputs": [
    {
     "data": {
      "text/plain": [
       "float"
      ]
     },
     "execution_count": 5,
     "metadata": {},
     "output_type": "execute_result"
    }
   ],
   "source": [
    "type(3.5)"
   ]
  },
  {
   "cell_type": "markdown",
   "metadata": {},
   "source": [
    "c.Bool: True or False"
   ]
  },
  {
   "cell_type": "code",
   "execution_count": 6,
   "metadata": {},
   "outputs": [
    {
     "data": {
      "text/plain": [
       "True"
      ]
     },
     "execution_count": 6,
     "metadata": {},
     "output_type": "execute_result"
    }
   ],
   "source": [
    "True"
   ]
  },
  {
   "cell_type": "code",
   "execution_count": 7,
   "metadata": {},
   "outputs": [
    {
     "data": {
      "text/plain": [
       "False"
      ]
     },
     "execution_count": 7,
     "metadata": {},
     "output_type": "execute_result"
    }
   ],
   "source": [
    "False"
   ]
  },
  {
   "cell_type": "code",
   "execution_count": 8,
   "metadata": {},
   "outputs": [
    {
     "data": {
      "text/plain": [
       "bool"
      ]
     },
     "execution_count": 8,
     "metadata": {},
     "output_type": "execute_result"
    }
   ],
   "source": [
    "type(True)"
   ]
  },
  {
   "cell_type": "markdown",
   "metadata": {},
   "source": [
    "d.String"
   ]
  },
  {
   "cell_type": "markdown",
   "metadata": {},
   "source": [
    "String literals in python are surrounded by either single quotation marks( ’string‘ ), or double quotation marks( “string” ).\n"
   ]
  },
  {
   "cell_type": "code",
   "execution_count": 11,
   "metadata": {},
   "outputs": [
    {
     "data": {
      "text/plain": [
       "'this is a string'"
      ]
     },
     "execution_count": 11,
     "metadata": {},
     "output_type": "execute_result"
    }
   ],
   "source": [
    "'this is a string'"
   ]
  },
  {
   "cell_type": "code",
   "execution_count": 12,
   "metadata": {},
   "outputs": [
    {
     "data": {
      "text/plain": [
       "'this is a string'"
      ]
     },
     "execution_count": 12,
     "metadata": {},
     "output_type": "execute_result"
    }
   ],
   "source": [
    "\"this is a string\""
   ]
  },
  {
   "cell_type": "code",
   "execution_count": 13,
   "metadata": {},
   "outputs": [
    {
     "data": {
      "text/plain": [
       "str"
      ]
     },
     "execution_count": 13,
     "metadata": {},
     "output_type": "execute_result"
    }
   ],
   "source": [
    "type('this is a string')"
   ]
  },
  {
   "cell_type": "markdown",
   "metadata": {},
   "source": [
    "2.Varibles"
   ]
  },
  {
   "cell_type": "markdown",
   "metadata": {},
   "source": [
    "a.assign constants to varibles"
   ]
  },
  {
   "cell_type": "code",
   "execution_count": 14,
   "metadata": {},
   "outputs": [],
   "source": [
    "# int varibles\n",
    "#  \"#\" is the comment mark \n",
    "a = 1\n",
    "b = 2"
   ]
  },
  {
   "cell_type": "code",
   "execution_count": 21,
   "metadata": {},
   "outputs": [
    {
     "data": {
      "text/plain": [
       "int"
      ]
     },
     "execution_count": 21,
     "metadata": {},
     "output_type": "execute_result"
    }
   ],
   "source": [
    "type(a)"
   ]
  },
  {
   "cell_type": "code",
   "execution_count": 15,
   "metadata": {},
   "outputs": [
    {
     "data": {
      "text/plain": [
       "3"
      ]
     },
     "execution_count": 15,
     "metadata": {},
     "output_type": "execute_result"
    }
   ],
   "source": [
    "a+b"
   ]
  },
  {
   "cell_type": "code",
   "execution_count": 16,
   "metadata": {},
   "outputs": [],
   "source": [
    "c=6\n",
    "d=7"
   ]
  },
  {
   "cell_type": "code",
   "execution_count": 17,
   "metadata": {},
   "outputs": [
    {
     "data": {
      "text/plain": [
       "-1"
      ]
     },
     "execution_count": 17,
     "metadata": {},
     "output_type": "execute_result"
    }
   ],
   "source": [
    "c-d"
   ]
  },
  {
   "cell_type": "code",
   "execution_count": 18,
   "metadata": {},
   "outputs": [
    {
     "data": {
      "text/plain": [
       "3"
      ]
     },
     "execution_count": 18,
     "metadata": {},
     "output_type": "execute_result"
    }
   ],
   "source": [
    "#Two ways for printing outputs\n",
    "a+b"
   ]
  },
  {
   "cell_type": "code",
   "execution_count": 19,
   "metadata": {},
   "outputs": [
    {
     "name": "stdout",
     "output_type": "stream",
     "text": [
      "3\n"
     ]
    }
   ],
   "source": [
    "print(a+b)"
   ]
  },
  {
   "cell_type": "markdown",
   "metadata": {},
   "source": [
    "Rules of naming varibles<br />\n",
    "<br />\n",
    "A variable name must start with a letter(a-z, A-Z) or the underscore character(_) <br />\n",
    "A variable name cannot start with a number<br />\n",
    "A variable name can only contain alpha-numeric characters and underscores (a-z, A-Z, 0-9, and _ )<br />\n",
    "Variable names are case-sensitive (age, Age and AGE are three different variables)<br />\n"
   ]
  },
  {
   "cell_type": "code",
   "execution_count": 3,
   "metadata": {},
   "outputs": [
    {
     "ename": "SyntaxError",
     "evalue": "invalid syntax (<ipython-input-3-f923eaac39e7>, line 2)",
     "output_type": "error",
     "traceback": [
      "\u001b[0;36m  File \u001b[0;32m\"<ipython-input-3-f923eaac39e7>\"\u001b[0;36m, line \u001b[0;32m2\u001b[0m\n\u001b[0;31m    3a = 1\u001b[0m\n\u001b[0m     ^\u001b[0m\n\u001b[0;31mSyntaxError\u001b[0m\u001b[0;31m:\u001b[0m invalid syntax\n"
     ]
    }
   ],
   "source": [
    "# varibles with invalid syntax\n",
    "3a = 1"
   ]
  },
  {
   "cell_type": "code",
   "execution_count": 5,
   "metadata": {},
   "outputs": [
    {
     "ename": "SyntaxError",
     "evalue": "invalid syntax (<ipython-input-5-9dbdabbca6e9>, line 2)",
     "output_type": "error",
     "traceback": [
      "\u001b[0;36m  File \u001b[0;32m\"<ipython-input-5-9dbdabbca6e9>\"\u001b[0;36m, line \u001b[0;32m2\u001b[0m\n\u001b[0;31m    a?2 = 1\u001b[0m\n\u001b[0m     ^\u001b[0m\n\u001b[0;31mSyntaxError\u001b[0m\u001b[0;31m:\u001b[0m invalid syntax\n"
     ]
    }
   ],
   "source": [
    "# varibles with invalid syntax\n",
    "a?2 = 1"
   ]
  },
  {
   "cell_type": "code",
   "execution_count": 4,
   "metadata": {},
   "outputs": [
    {
     "ename": "SyntaxError",
     "evalue": "invalid syntax (<ipython-input-4-d44de56ce344>, line 1)",
     "output_type": "error",
     "traceback": [
      "\u001b[0;36m  File \u001b[0;32m\"<ipython-input-4-d44de56ce344>\"\u001b[0;36m, line \u001b[0;32m1\u001b[0m\n\u001b[0;31m    >huihuogou=1\u001b[0m\n\u001b[0m    ^\u001b[0m\n\u001b[0;31mSyntaxError\u001b[0m\u001b[0;31m:\u001b[0m invalid syntax\n"
     ]
    }
   ],
   "source": [
    ">huihuogou=1"
   ]
  },
  {
   "cell_type": "code",
   "execution_count": 22,
   "metadata": {},
   "outputs": [],
   "source": [
    "# float varibles\n",
    "b = 1.11"
   ]
  },
  {
   "cell_type": "code",
   "execution_count": 23,
   "metadata": {},
   "outputs": [
    {
     "data": {
      "text/plain": [
       "float"
      ]
     },
     "execution_count": 23,
     "metadata": {},
     "output_type": "execute_result"
    }
   ],
   "source": [
    "type(b)"
   ]
  },
  {
   "cell_type": "code",
   "execution_count": 25,
   "metadata": {},
   "outputs": [
    {
     "name": "stdout",
     "output_type": "stream",
     "text": [
      "2.1100000000000003\n",
      "<class 'float'>\n"
     ]
    }
   ],
   "source": [
    "# int + float = float\n",
    "c = 1\n",
    "print(b+c)\n",
    "print(type(b+c))"
   ]
  },
  {
   "cell_type": "code",
   "execution_count": 26,
   "metadata": {},
   "outputs": [
    {
     "name": "stdout",
     "output_type": "stream",
     "text": [
      "<class 'str'>\n",
      "<class 'str'>\n"
     ]
    }
   ],
   "source": [
    "# string variables\n",
    "a = 'This is python'\n",
    "b = \"This is python\"\n",
    "print(type(a))\n",
    "print(type(b))"
   ]
  },
  {
   "cell_type": "code",
   "execution_count": 27,
   "metadata": {},
   "outputs": [
    {
     "name": "stdout",
     "output_type": "stream",
     "text": [
      "欢迎\n"
     ]
    }
   ],
   "source": [
    "# Chinese string\n",
    "c='欢迎'\n",
    "print(c)"
   ]
  },
  {
   "cell_type": "markdown",
   "metadata": {},
   "source": [
    "Some useful methods:<br />\n",
    "<br />\n",
    "string1 + string2: string concatenation<br />\n",
    "strip() : remove whitespace from beginning or end of the string<br />\n",
    "len() : return length of the string<br />\n",
    "lower() / upper() : return the string in lower / upper case<br />\n",
    " replace() : replace a string to another new string<br />\n",
    "split() : split a string to several sub-strings.You can specify the separator, default separator is any whitespace.<br />\n"
   ]
  },
  {
   "cell_type": "code",
   "execution_count": 28,
   "metadata": {},
   "outputs": [
    {
     "data": {
      "text/plain": [
       "'This is python This is python'"
      ]
     },
     "execution_count": 28,
     "metadata": {},
     "output_type": "execute_result"
    }
   ],
   "source": [
    "#String Concatenation\n",
    "a + ' ' + b"
   ]
  },
  {
   "cell_type": "code",
   "execution_count": 29,
   "metadata": {},
   "outputs": [
    {
     "data": {
      "text/plain": [
       "'This is pythonThis is python'"
      ]
     },
     "execution_count": 29,
     "metadata": {},
     "output_type": "execute_result"
    }
   ],
   "source": [
    "a+b"
   ]
  },
  {
   "cell_type": "code",
   "execution_count": 31,
   "metadata": {},
   "outputs": [
    {
     "name": "stdout",
     "output_type": "stream",
     "text": [
      "                This is python                     \n",
      "This is python\n"
     ]
    }
   ],
   "source": [
    "a = '                This is python                     '\n",
    "print(a)\n",
    "\n",
    "# strip()\n",
    "print(a.strip())\n"
   ]
  },
  {
   "cell_type": "code",
   "execution_count": 32,
   "metadata": {},
   "outputs": [
    {
     "name": "stdout",
     "output_type": "stream",
     "text": [
      "46\n",
      "14\n"
     ]
    }
   ],
   "source": [
    "a = '              This is python                  '\n",
    "b = 'This is python'\n",
    "# len()\n",
    "print(len(a))\n",
    "print(len(b))\n"
   ]
  },
  {
   "cell_type": "code",
   "execution_count": 33,
   "metadata": {},
   "outputs": [
    {
     "name": "stdout",
     "output_type": "stream",
     "text": [
      " this is python   \n",
      " THIS IS PYTHON   \n"
     ]
    }
   ],
   "source": [
    "a = ' This is python   '\n",
    "# lower case\n",
    "print(a.lower())\n",
    "# upper case\n",
    "print(a.upper())\n"
   ]
  },
  {
   "cell_type": "code",
   "execution_count": 34,
   "metadata": {},
   "outputs": [
    {
     "name": "stdout",
     "output_type": "stream",
     "text": [
      " What is python   \n"
     ]
    }
   ],
   "source": [
    "a = ' This is python   '\n",
    "# replace\n",
    "print(a.replace('This','What'))"
   ]
  },
  {
   "cell_type": "code",
   "execution_count": 36,
   "metadata": {},
   "outputs": [
    {
     "name": "stdout",
     "output_type": "stream",
     "text": [
      "['this', 'is', 'python']\n",
      "['th', 's ', 's python']\n"
     ]
    }
   ],
   "source": [
    "a = 'this is python'\n",
    "# default separator\n",
    "b=a.split()\n",
    "print(b)\n",
    "# assign \"i\" as the separator\n",
    "c=a.split('i')\n",
    "print(c)"
   ]
  },
  {
   "cell_type": "markdown",
   "metadata": {},
   "source": [
    "Operators are used to perform operations on variables and values."
   ]
  },
  {
   "cell_type": "code",
   "execution_count": 15,
   "metadata": {},
   "outputs": [
    {
     "name": "stdout",
     "output_type": "stream",
     "text": [
      "3\n",
      "-1\n",
      "2\n",
      "0.5\n"
     ]
    }
   ],
   "source": [
    "# Python Operators\n",
    "# Arithmetic Operators\n",
    "a = 1\n",
    "b = 2\n",
    "# addition\n",
    "print(a+b)\n",
    "# Subtraction\n",
    "print(a-b)\n",
    "# Multiplication\n",
    "print(a*b)\n",
    "# Division\n",
    "print(a/b)\n"
   ]
  },
  {
   "cell_type": "code",
   "execution_count": 16,
   "metadata": {
    "scrolled": true
   },
   "outputs": [
    {
     "name": "stdout",
     "output_type": "stream",
     "text": [
      "6\n"
     ]
    }
   ],
   "source": [
    "# Assignment Operators\n",
    "a = 5\n",
    "a += 1\n",
    "print(a)"
   ]
  },
  {
   "cell_type": "code",
   "execution_count": 17,
   "metadata": {},
   "outputs": [
    {
     "name": "stdout",
     "output_type": "stream",
     "text": [
      "4\n"
     ]
    }
   ],
   "source": [
    "a = 5\n",
    "a -= 1\n",
    "print(a)"
   ]
  },
  {
   "cell_type": "code",
   "execution_count": 18,
   "metadata": {},
   "outputs": [
    {
     "name": "stdout",
     "output_type": "stream",
     "text": [
      "10\n"
     ]
    }
   ],
   "source": [
    "a = 5\n",
    "a *= 2\n",
    "print(a)"
   ]
  },
  {
   "cell_type": "code",
   "execution_count": 19,
   "metadata": {},
   "outputs": [
    {
     "name": "stdout",
     "output_type": "stream",
     "text": [
      "2.5\n"
     ]
    }
   ],
   "source": [
    "a = 5\n",
    "a /= 2\n",
    "print(a)"
   ]
  },
  {
   "cell_type": "code",
   "execution_count": 20,
   "metadata": {},
   "outputs": [
    {
     "name": "stdout",
     "output_type": "stream",
     "text": [
      "False\n",
      "True\n",
      "True\n",
      "False\n",
      "True\n",
      "False\n"
     ]
    }
   ],
   "source": [
    "# Comparison Operators\n",
    "a = 1\n",
    "print(a == 2)\n",
    "print(a != 2)\n",
    "print(a > 0)\n",
    "print(a < 0)\n",
    "print(a >= 0)\n",
    "print(a <= 0)"
   ]
  },
  {
   "cell_type": "code",
   "execution_count": 21,
   "metadata": {},
   "outputs": [
    {
     "name": "stdout",
     "output_type": "stream",
     "text": [
      "False\n",
      "True\n",
      "True\n"
     ]
    }
   ],
   "source": [
    "# Logical Operators\n",
    "a = 1\n",
    "b = 2\n",
    "print(a == 2 and b == 2)\n",
    "print(a == 2 or b == 2)\n",
    "print(not(a == 2) and b == 2)"
   ]
  },
  {
   "cell_type": "code",
   "execution_count": 2,
   "metadata": {},
   "outputs": [
    {
     "name": "stdout",
     "output_type": "stream",
     "text": [
      "True\n"
     ]
    }
   ],
   "source": [
    "# Identity Operators\n",
    "a = 'a'\n",
    "b = 'a'\n",
    "print(a is b)"
   ]
  },
  {
   "cell_type": "markdown",
   "metadata": {},
   "source": [
    "Casting---Specify a Variable Type"
   ]
  },
  {
   "cell_type": "code",
   "execution_count": 23,
   "metadata": {},
   "outputs": [
    {
     "name": "stdout",
     "output_type": "stream",
     "text": [
      "<class 'int'>\n",
      "1\n"
     ]
    }
   ],
   "source": [
    "# Casting\n",
    "a = int(1.0)\n",
    "print(type(a))\n",
    "print(a)"
   ]
  },
  {
   "cell_type": "code",
   "execution_count": 24,
   "metadata": {},
   "outputs": [
    {
     "name": "stdout",
     "output_type": "stream",
     "text": [
      "<class 'str'>\n",
      "1.0\n"
     ]
    }
   ],
   "source": [
    "b = str(1.0)\n",
    "print(type(b))\n",
    "print(b)"
   ]
  },
  {
   "cell_type": "code",
   "execution_count": 25,
   "metadata": {},
   "outputs": [
    {
     "name": "stdout",
     "output_type": "stream",
     "text": [
      "<class 'float'>\n",
      "1.0\n"
     ]
    }
   ],
   "source": [
    "c = float(1)\n",
    "print(type(c))\n",
    "print(c)"
   ]
  },
  {
   "cell_type": "code",
   "execution_count": 26,
   "metadata": {},
   "outputs": [
    {
     "name": "stdout",
     "output_type": "stream",
     "text": [
      "<class 'str'>\n",
      "1\n"
     ]
    }
   ],
   "source": [
    "d = int(1)\n",
    "d_str = str(d)\n",
    "print(type(d_str))\n",
    "print(d_str)"
   ]
  },
  {
   "cell_type": "markdown",
   "metadata": {},
   "source": [
    "Four useful data types:<br />\n",
    "<br />\n",
    "List: Ordered and changeable. Allows duplicate members.<br />\n",
    "Tuple: Ordered and unchangeable. Allows duplicate members.<br />\n",
    "Set: Unordered and unindexed. No duplicate members.<br />\n",
    "Dictionaries: Unordered, changeable and indexed. No duplicate members.<br />"
   ]
  },
  {
   "cell_type": "markdown",
   "metadata": {},
   "source": [
    "List: The most useful type<br />\n",
    "<br />\n",
    "lists are written with square brackets<br />\n",
    "Each item has a index in list, start with 0,1,2…     such as list0[1] list1[0]<br />\n",
    "append() : append a new item to list<br />\n",
    "remove() : remove an item from list<br />\n",
    "len() : return number of items in a list<br />\n"
   ]
  },
  {
   "cell_type": "code",
   "execution_count": 27,
   "metadata": {},
   "outputs": [
    {
     "name": "stdout",
     "output_type": "stream",
     "text": [
      "apple\n",
      "3\n",
      "['apple', 'iphone', 123, 'Jobs']\n",
      "['apple', 'iphone', 'Jobs']\n"
     ]
    }
   ],
   "source": [
    "# list\n",
    "list1 = ['apple', 'iphone', 123]\n",
    "# index\n",
    "print(list1[0])\n",
    "# length\n",
    "print(len(list1))\n",
    "# append\n",
    "list1.append('Jobs')\n",
    "print(list1)\n",
    "#remove\n",
    "list1.remove(123)\n",
    "print(list1)"
   ]
  },
  {
   "cell_type": "markdown",
   "metadata": {},
   "source": [
    "tuples are written with round brackets.<br />\n",
    "You can not change items in a tuple<br />\n",
    "Tuple1 = (“apple”, ”iphone”, ”jobs”)<br />\n",
    "Len() and index methods can be used in a tuple<br />"
   ]
  },
  {
   "cell_type": "code",
   "execution_count": 28,
   "metadata": {},
   "outputs": [
    {
     "name": "stdout",
     "output_type": "stream",
     "text": [
      "apple\n",
      "3\n"
     ]
    },
    {
     "ename": "AttributeError",
     "evalue": "'tuple' object has no attribute 'append'",
     "output_type": "error",
     "traceback": [
      "\u001b[0;31m---------------------------------------------------------------------------\u001b[0m",
      "\u001b[0;31mAttributeError\u001b[0m                            Traceback (most recent call last)",
      "\u001b[0;32m<ipython-input-28-cd8ec9610fc5>\u001b[0m in \u001b[0;36m<module>\u001b[0;34m()\u001b[0m\n\u001b[1;32m      3\u001b[0m \u001b[0mprint\u001b[0m\u001b[0;34m(\u001b[0m\u001b[0mtuple1\u001b[0m\u001b[0;34m[\u001b[0m\u001b[0;36m0\u001b[0m\u001b[0;34m]\u001b[0m\u001b[0;34m)\u001b[0m\u001b[0;34m\u001b[0m\u001b[0m\n\u001b[1;32m      4\u001b[0m \u001b[0mprint\u001b[0m\u001b[0;34m(\u001b[0m\u001b[0mlen\u001b[0m\u001b[0;34m(\u001b[0m\u001b[0mtuple1\u001b[0m\u001b[0;34m)\u001b[0m\u001b[0;34m)\u001b[0m\u001b[0;34m\u001b[0m\u001b[0m\n\u001b[0;32m----> 5\u001b[0;31m \u001b[0mtuple1\u001b[0m\u001b[0;34m.\u001b[0m\u001b[0mappend\u001b[0m\u001b[0;34m(\u001b[0m\u001b[0;34m'jobs'\u001b[0m\u001b[0;34m)\u001b[0m\u001b[0;34m\u001b[0m\u001b[0m\n\u001b[0m\u001b[1;32m      6\u001b[0m \u001b[0mprint\u001b[0m\u001b[0;34m(\u001b[0m\u001b[0mtuple1\u001b[0m\u001b[0;34m)\u001b[0m\u001b[0;34m\u001b[0m\u001b[0m\n",
      "\u001b[0;31mAttributeError\u001b[0m: 'tuple' object has no attribute 'append'"
     ]
    }
   ],
   "source": [
    "# tuple\n",
    "tuple1 = ('apple','iphone',123)\n",
    "print(tuple1[0])\n",
    "print(len(tuple1))\n",
    "tuple1.append('jobs')\n",
    "print(tuple1)"
   ]
  },
  {
   "cell_type": "markdown",
   "metadata": {},
   "source": [
    "sets are written with curly brackets<br />\n",
    "Unordered, so items will show in a random order---can not use index<br />\n",
    "Set1 = {‘apple’, ‘iphone’, ‘jobs’} or    set2 = set((‘apple’, ‘iphone’, ‘jobs’))<br />\n",
    "Use add() to add a item into a set(not append()!)<br />\n",
    "len(), remove() can be used in a set<br />"
   ]
  },
  {
   "cell_type": "code",
   "execution_count": 29,
   "metadata": {},
   "outputs": [
    {
     "name": "stdout",
     "output_type": "stream",
     "text": [
      "3\n",
      "{'jobs', 123, 'iphone', 'apple'}\n",
      "{'ipad'}\n"
     ]
    }
   ],
   "source": [
    "# set\n",
    "set1 = set(('apple','iphone',123))\n",
    "set2 = {'jobs','ipad'}\n",
    "print(len(set1))\n",
    "set1.add('jobs')\n",
    "set2.remove('jobs')\n",
    "print(set1)\n",
    "print(set2)"
   ]
  },
  {
   "cell_type": "markdown",
   "metadata": {},
   "source": [
    "In Python dictionaries are written with curly brackets, and they have index keys and values, each pair of key and value is separated by a comma”,”<br />\n",
    "Change item values:   dict1[“apple”] = “company”<br />\n",
    "Add a new item: use new index keys and assign a value to it: dict[“new”:”iphoneX”]<br />\n",
    "Remove an item: del() (not remove()!):  del(dict1[“apple”])<br />\n",
    "In a dictionary, value can nest other data types, such as list, dict,…<br />\n"
   ]
  },
  {
   "cell_type": "code",
   "execution_count": 30,
   "metadata": {},
   "outputs": [
    {
     "name": "stdout",
     "output_type": "stream",
     "text": [
      "{'apple': 'green', 'banana': 'yellow', 'orange': 'orange'}\n",
      "{'apple': 'green', 'banana': 'yellow', 'orange': 'orange', 'lemon': 'yellow'}\n",
      "{'banana': 'yellow', 'orange': 'orange', 'lemon': 'yellow'}\n"
     ]
    }
   ],
   "source": [
    "# dictionary\n",
    "dict1 = {\n",
    "    \"apple\":\"red\",\n",
    "    \"banana\":\"yellow\",\n",
    "    \"orange\":\"orange\"\n",
    "}\n",
    "dict1[\"apple\"] = \"green\"\n",
    "print(dict1)\n",
    "dict1[\"lemon\"] = \"yellow\"\n",
    "print(dict1)\n",
    "del(dict1[\"apple\"])\n",
    "print(dict1)"
   ]
  },
  {
   "cell_type": "code",
   "execution_count": 31,
   "metadata": {},
   "outputs": [
    {
     "name": "stdout",
     "output_type": "stream",
     "text": [
      "{'weibo': {'uid': ['00001', '00002', '00003'], 'user_name': ['Jobs', 'Jack Ma', 'Pony Ma'], 'age': [60, 50, 50], 'nationality': ['USA', 'Chinese', 'Chinese'], 'tel': [12345678, 23456789, 56789012]}, 'facebook': {'uid': ['00001', '00002', '00003'], 'user_name': ['Ali', 'Messi', 'Kane'], 'age': [22, 32, 27], 'nationality': ['UK', 'Argentina', 'UK'], 'tel': [12345678, 23456789, 56789012]}}\n"
     ]
    }
   ],
   "source": [
    "weibo_user_info = {\n",
    "    \"uid\":['00001','00002','00003'],\n",
    "    \"user_name\":['Jobs','Jack Ma','Pony Ma'],\n",
    "    \"age\":[60,50,50],\n",
    "    \"nationality\":['USA','Chinese','Chinese'],\n",
    "    \"tel\":[12345678,23456789,56789012]\n",
    "}\n",
    "\n",
    "fb_user_info = {\n",
    "    \"uid\":['00001','00002','00003'],\n",
    "    \"user_name\":['Ali','Messi','Kane'],\n",
    "    \"age\":[22,32,27],\n",
    "    \"nationality\":['UK','Argentina','UK'],\n",
    "    \"tel\":[12345678,23456789,56789012]\n",
    "}\n",
    "\n",
    "user_info = {\n",
    "    \"weibo\":weibo_user_info,\n",
    "    \"facebook\":fb_user_info\n",
    "}\n",
    "\n",
    "\n",
    "print(user_info)"
   ]
  },
  {
   "cell_type": "markdown",
   "metadata": {},
   "source": [
    "Condition keywords:  if…elif…else<br />\n",
    "Python relies on indentation, using whitespace, to define scope in the code. Each condition statements on new lines MUST use indentation<br />\n"
   ]
  },
  {
   "cell_type": "code",
   "execution_count": 32,
   "metadata": {},
   "outputs": [
    {
     "name": "stdout",
     "output_type": "stream",
     "text": [
      "if\n"
     ]
    }
   ],
   "source": [
    "# conditions\n",
    "a = 1\n",
    "b = 2\n",
    "c = 3\n",
    "if a+b==3 and c!=0:\n",
    "    print(\"if\")\n",
    "elif a==0:\n",
    "    print(\"elif\")\n",
    "else:\n",
    "    print(\"else\")"
   ]
  },
  {
   "cell_type": "code",
   "execution_count": 33,
   "metadata": {},
   "outputs": [
    {
     "ename": "IndentationError",
     "evalue": "expected an indented block (<ipython-input-33-2450cf59dd1e>, line 6)",
     "output_type": "error",
     "traceback": [
      "\u001b[0;36m  File \u001b[0;32m\"<ipython-input-33-2450cf59dd1e>\"\u001b[0;36m, line \u001b[0;32m6\u001b[0m\n\u001b[0;31m    print(\"if\")\u001b[0m\n\u001b[0m        ^\u001b[0m\n\u001b[0;31mIndentationError\u001b[0m\u001b[0;31m:\u001b[0m expected an indented block\n"
     ]
    }
   ],
   "source": [
    "# conditions with out indentation will get an error\n",
    "a = 1\n",
    "b = 2\n",
    "c = 3\n",
    "if a+b==3 and c!=0:\n",
    "print(\"if\")\n",
    "elif a==0:\n",
    "print(\"elif\")\n",
    "else:\n",
    "print(\"else\")"
   ]
  },
  {
   "cell_type": "markdown",
   "metadata": {},
   "source": [
    "A for loop is used for iterating over a sequence (that is either a list, a tuple or a string,...).<br />\n",
    "With the for loop we can execute a set of statements, once for each item in a list, tuple, set etc.<br />\n",
    "range() function is often used in for loops<br />\n"
   ]
  },
  {
   "cell_type": "code",
   "execution_count": 34,
   "metadata": {},
   "outputs": [
    {
     "name": "stdout",
     "output_type": "stream",
     "text": [
      "weibo\n",
      "facebook\n",
      "wechat\n"
     ]
    }
   ],
   "source": [
    "#for loop\n",
    "list1 = ['weibo','facebook','wechat']\n",
    "for x in list1:\n",
    "    print(x)"
   ]
  },
  {
   "cell_type": "code",
   "execution_count": 37,
   "metadata": {},
   "outputs": [
    {
     "name": "stdout",
     "output_type": "stream",
     "text": [
      "0\n",
      "1\n",
      "2\n",
      "3\n",
      "4\n",
      "5\n"
     ]
    }
   ],
   "source": [
    "#range\n",
    "#  6 is not included in range(6)\n",
    "for x in range(6):\n",
    "    print(x)"
   ]
  },
  {
   "cell_type": "markdown",
   "metadata": {},
   "source": [
    "A break can be used to stop loops before all the items has been looped through<br />\n",
    "A continue can be used to stop current iteration loop and jump to next loop<br />"
   ]
  },
  {
   "cell_type": "code",
   "execution_count": 36,
   "metadata": {},
   "outputs": [
    {
     "name": "stdout",
     "output_type": "stream",
     "text": [
      "weibo\n"
     ]
    }
   ],
   "source": [
    "#break and continue\n",
    "list1 = ['weibo','facebook','wechat']\n",
    "for x in list1:\n",
    "    if x =='wechat':\n",
    "        break\n",
    "    elif x =='facebook':\n",
    "        continue\n",
    "    else:\n",
    "        print(x)"
   ]
  },
  {
   "cell_type": "markdown",
   "metadata": {},
   "source": [
    "A function is a block of code which only runs when it is called.<br />\n",
    "You can pass data, known as parameters, into a function, and return data as a result.<br />\n",
    "Use def keyword to define a function<br />\n",
    "Use the function name followed by parenthesis to call the function<br />"
   ]
  },
  {
   "cell_type": "code",
   "execution_count": 37,
   "metadata": {},
   "outputs": [
    {
     "name": "stdout",
     "output_type": "stream",
     "text": [
      "pythonis the parameter\n",
      "python\n"
     ]
    }
   ],
   "source": [
    "#function\n",
    "def example_function(text):\n",
    "    print (text + \"is the parameter\")\n",
    "    return text\n",
    "\n",
    "print(example_function(\"python\"))"
   ]
  },
  {
   "cell_type": "code",
   "execution_count": 38,
   "metadata": {},
   "outputs": [
    {
     "name": "stdout",
     "output_type": "stream",
     "text": [
      "hello world\n",
      "python\n"
     ]
    }
   ],
   "source": [
    "# Default Parameter Value\n",
    "def example2(text=\"python\"):\n",
    "    print(text)\n",
    "    \n",
    "# call with a parameter\n",
    "example2(\"hello world\")\n",
    "# call with out parameter\n",
    "example2()"
   ]
  },
  {
   "cell_type": "markdown",
   "metadata": {},
   "source": [
    "Try to write a function “f1”,<br />\n",
    "Including two parameters: <br />\n",
    "“li” for passing a list to ”f1”<br />\n",
    "“le” for passing a number to “f1”<br />\n",
    " For each item in the list “li”, <br />\n",
    "if the item is None or ‘’, please print a warning: “the item is None or ‘’!”<br />\n",
    "if the number of words in the item is greater than “le, please print the item in uppercase; <br />\n",
    "if the number of words in the item is less than or equal to ”le”, please print the item in lowercase;<br />"
   ]
  },
  {
   "cell_type": "code",
   "execution_count": 42,
   "metadata": {
    "collapsed": true
   },
   "outputs": [],
   "source": [
    "# In-class exercise\n",
    "def fi(li,le):\n",
    "    for item in li:  \n",
    "        if item == None or item == '':\n",
    "            print(\"the item is None or ''!\")\n",
    "        elif len(item.split(' '))  > le:\n",
    "            print(item.upper())\n",
    "        elif len(item.split(' ')) <= le:\n",
    "            print(item.lower())\n"
   ]
  },
  {
   "cell_type": "code",
   "execution_count": 43,
   "metadata": {},
   "outputs": [
    {
     "name": "stdout",
     "output_type": "stream",
     "text": [
      "FIND A WORD\n",
      "the item is None or ''!\n",
      "the item is None or ''!\n",
      "sorry\n",
      "jobs\n",
      "a\n",
      "12\n",
      "hello python\n",
      "ak\n"
     ]
    }
   ],
   "source": [
    "test_list = ['find a word','',None,'soRry','jobs','A','12','hello python','aK']\n",
    "fi(test_list,2)"
   ]
  },
  {
   "cell_type": "markdown",
   "metadata": {},
   "source": [
    "File handling"
   ]
  },
  {
   "cell_type": "code",
   "execution_count": null,
   "metadata": {},
   "outputs": [],
   "source": []
  },
  {
   "cell_type": "code",
   "execution_count": 39,
   "metadata": {},
   "outputs": [
    {
     "name": "stdout",
     "output_type": "stream",
     "text": [
      "overwrite the file!\n"
     ]
    }
   ],
   "source": [
    "# read file\n",
    "f = open(\"demo.txt\", \"r\") #if you do not have a file \"demo.txt\", please create it first at this .ipynb notebook's path\n",
    "print(f.read())"
   ]
  },
  {
   "cell_type": "markdown",
   "metadata": {},
   "source": [
    "”a”-append- add new content to the end of the file; If file does not exist, it will create a new file first<br />\n",
    "“w”-write- overwrite any existing content! If file does not exist, it will create a new file first<br />"
   ]
  },
  {
   "cell_type": "code",
   "execution_count": 40,
   "metadata": {},
   "outputs": [
    {
     "name": "stdout",
     "output_type": "stream",
     "text": [
      "overwrite the file!append new content into the file!\n"
     ]
    }
   ],
   "source": [
    "# write file\n",
    "# append write\n",
    "f = open(\"demo.txt\", \"a\")\n",
    "f.write(\"append new content into the file!\")\n",
    "\n",
    "f = open(\"demo.txt\", \"r\")\n",
    "print(f.read())"
   ]
  },
  {
   "cell_type": "code",
   "execution_count": 41,
   "metadata": {},
   "outputs": [
    {
     "name": "stdout",
     "output_type": "stream",
     "text": [
      "overwrite the file!\n"
     ]
    }
   ],
   "source": [
    "# overwrite\n",
    "f = open(\"demo.txt\", \"w\")\n",
    "f.write(\"overwrite the file!\")\n",
    "\n",
    "f = open(\"demo.txt\", \"r\")\n",
    "print(f.read())"
   ]
  },
  {
   "attachments": {},
   "cell_type": "markdown",
   "metadata": {},
   "source": [
    "# Python libraries"
   ]
  },
  {
   "attachments": {},
   "cell_type": "markdown",
   "metadata": {},
   "source": [
    "Python library is a collection of functions and methods that allows you to perform lots of actions without writing your own code.<br />\n",
    "The Python Standard Library --- we can import them without downloading as long as we installed python<br />\n",
    "Other third-party library --- we should download them first, then import them into our codes. If we use anaconda, a lot of libraries has already downloaded while installing!<br />\n",
    "We can use “import” to import libraries into our codes, then call functions from libraries directly.<br />\n"
   ]
  },
  {
   "cell_type": "markdown",
   "metadata": {},
   "source": [
    "There are several ways to import libraries<br />\n",
    "Example:<br />\n",
    "1.library A has a class B, and class B has a function C<br />\n",
    "import A --- we imported the whole library directly<br />\n",
    "<br />\n",
    "2.if we want to call function C --- A.B.C<br />\n",
    "import A as a --- we import A and give it a short name a<br />\n",
    "<br />\n",
    "3.if we want to call function C --- a.B.C<br />\n",
    "from A import B --- we just import class B from library A\n",
    "if we want to call function C --- B.C<br />\n",
    "<br />\n"
   ]
  },
  {
   "attachments": {},
   "cell_type": "markdown",
   "metadata": {},
   "source": [
    "Frequently used Python libraries or packages:<br />\n",
    "<br />\n",
    "NLTK --- Natural Language Toolkit<br />\n",
    "Numpy --- Fundamental package for scientific computing with Python<br />\n",
    "Pandas --- Python Data Analysis Library<br />\n",
    "scikit-learn --- Machine Learning in Python<br />\n",
    "Jieba --- Python Chinese word segmentation module<br />\n",
    "Seaborn --- Python Visualization package<br />\n",
    "Gensim --- Topic Modeling<br />\n",
    "…\n"
   ]
  },
  {
   "cell_type": "code",
   "execution_count": null,
   "metadata": {},
   "outputs": [],
   "source": []
  }
 ],
 "metadata": {
  "kernelspec": {
   "display_name": "Python 3",
   "language": "python",
   "name": "python3"
  },
  "language_info": {
   "codemirror_mode": {
    "name": "ipython",
    "version": 3
   },
   "file_extension": ".py",
   "mimetype": "text/x-python",
   "name": "python",
   "nbconvert_exporter": "python",
   "pygments_lexer": "ipython3",
   "version": "3.7.0"
  }
 },
 "nbformat": 4,
 "nbformat_minor": 2
}
